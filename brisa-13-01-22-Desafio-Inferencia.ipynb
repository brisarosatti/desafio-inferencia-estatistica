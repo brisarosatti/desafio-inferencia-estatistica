{
 "cells": [
  {
   "cell_type": "markdown",
   "id": "f3b5680f",
   "metadata": {
    "id": "f3b5680f"
   },
   "source": [
    "# Desafio Inferência\n",
    "\n",
    "##### Objetivos:\n",
    "1) Qual o perfil de indivíduos (adultos maiores de 18 anos) com sintomas depressivos nos EUA no período de 2005-2006?\n",
    "\n",
    "2) Hábitos saudáveis de alimentação e atividade física estão associados a menores índices de depressão nesta população?"
   ]
  },
  {
   "cell_type": "markdown",
   "id": "f9190e11",
   "metadata": {
    "id": "f9190e11"
   },
   "source": [
    "## 1) Tratamento de dados"
   ]
  },
  {
   "cell_type": "markdown",
   "id": "kywzamnrErAH",
   "metadata": {
    "id": "kywzamnrErAH"
   },
   "source": [
    "### 1.1) Importação bibliotecas e Limpeza dos dados"
   ]
  },
  {
   "cell_type": "code",
   "execution_count": 1,
   "id": "47b8c300",
   "metadata": {
    "id": "47b8c300",
    "scrolled": true
   },
   "outputs": [],
   "source": [
    "import warnings # biblioteca de avisos de atualização \n",
    "warnings.filterwarnings(\"ignore\") # filtro para ignorar avisos\n",
    "import pandas as pd # biblioteca manipulação e analise de dados\n",
    "import numpy as np # biblioteca de funcoes matematicas\n",
    "import seaborn as sns # visualização dados\n",
    "import matplotlib.pyplot as plt #visualizaçao dados\n",
    "from scipy.stats import f_oneway # ANOVA teste F\n",
    "from statsmodels.stats.multicomp import pairwise_tukeyhsd\n",
    "from statsmodels.stats.multicomp import MultiComparison"
   ]
  },
  {
   "cell_type": "code",
   "execution_count": 2,
   "id": "2545e77f",
   "metadata": {
    "id": "2545e77f"
   },
   "outputs": [],
   "source": [
    "# Leitura do arquivo\n",
    "\n",
    "df_phq = pd.read_csv('dados/DEMO_PHQ.csv')\n",
    "df_pag_hei = pd.read_csv('dados/PAG_HEI.csv')"
   ]
  },
  {
   "cell_type": "code",
   "execution_count": 3,
   "id": "6b1eaa1c",
   "metadata": {
    "colab": {
     "base_uri": "https://localhost:8080/"
    },
    "executionInfo": {
     "elapsed": 386,
     "status": "ok",
     "timestamp": 1644322110039,
     "user": {
      "displayName": "Brisa Gonçalves",
      "photoUrl": "https://lh3.googleusercontent.com/a-/AOh14GitzE3yBEnyqzopa88QrW2MbETwuEkAWSdRG9efhg0=s64",
      "userId": "03031556768674861812"
     },
     "user_tz": 180
    },
    "id": "6b1eaa1c",
    "outputId": "d42ba2d2-7524-4570-eb26-0967e1d2180a"
   },
   "outputs": [
    {
     "name": "stdout",
     "output_type": "stream",
     "text": [
      "<class 'pandas.core.frame.DataFrame'>\n",
      "RangeIndex: 5334 entries, 0 to 5333\n",
      "Data columns (total 15 columns):\n",
      " #   Column    Non-Null Count  Dtype  \n",
      "---  ------    --------------  -----  \n",
      " 0   SEQN      5334 non-null   int64  \n",
      " 1   DPQ010    4836 non-null   float64\n",
      " 2   DPQ020    4836 non-null   float64\n",
      " 3   DPQ030    4836 non-null   float64\n",
      " 4   DPQ040    4836 non-null   float64\n",
      " 5   DPQ050    4836 non-null   float64\n",
      " 6   DPQ060    4836 non-null   float64\n",
      " 7   DPQ070    4836 non-null   float64\n",
      " 8   DPQ080    4836 non-null   float64\n",
      " 9   DPQ090    4836 non-null   float64\n",
      " 10  RIAGENDR  5334 non-null   int64  \n",
      " 11  RIDAGEYR  5334 non-null   int64  \n",
      " 12  RIDRETH1  5334 non-null   int64  \n",
      " 13  DMDEDUC   5334 non-null   int64  \n",
      " 14  INDFMINC  5287 non-null   float64\n",
      "dtypes: float64(10), int64(5)\n",
      "memory usage: 625.2 KB\n"
     ]
    }
   ],
   "source": [
    "# Informações gerais sobre os dados\n",
    "\n",
    "df_phq.info() #5334 observações de adultos"
   ]
  },
  {
   "cell_type": "code",
   "execution_count": 4,
   "id": "6650ff91",
   "metadata": {
    "colab": {
     "base_uri": "https://localhost:8080/"
    },
    "executionInfo": {
     "elapsed": 627,
     "status": "ok",
     "timestamp": 1644322115246,
     "user": {
      "displayName": "Brisa Gonçalves",
      "photoUrl": "https://lh3.googleusercontent.com/a-/AOh14GitzE3yBEnyqzopa88QrW2MbETwuEkAWSdRG9efhg0=s64",
      "userId": "03031556768674861812"
     },
     "user_tz": 180
    },
    "id": "6650ff91",
    "outputId": "52193a4b-fe9f-45a7-e92f-ee156adf4868"
   },
   "outputs": [
    {
     "name": "stdout",
     "output_type": "stream",
     "text": [
      "<class 'pandas.core.frame.DataFrame'>\n",
      "RangeIndex: 9424 entries, 0 to 9423\n",
      "Data columns (total 17 columns):\n",
      " #   Column                    Non-Null Count  Dtype  \n",
      "---  ------                    --------------  -----  \n",
      " 0   SEQN                      9424 non-null   int64  \n",
      " 1   PAG_MINW                  7150 non-null   float64\n",
      " 2   ADHERENCE                 7150 non-null   float64\n",
      " 3   HEI2015C1_TOTALVEG        8549 non-null   float64\n",
      " 4   HEI2015C2_GREEN_AND_BEAN  8549 non-null   float64\n",
      " 5   HEI2015C3_TOTALFRUIT      8549 non-null   float64\n",
      " 6   HEI2015C4_WHOLEFRUIT      8549 non-null   float64\n",
      " 7   HEI2015C5_WHOLEGRAIN      8549 non-null   float64\n",
      " 8   HEI2015C6_TOTALDAIRY      8549 non-null   float64\n",
      " 9   HEI2015C7_TOTPROT         8549 non-null   float64\n",
      " 10  HEI2015C8_SEAPLANT_PROT   8549 non-null   float64\n",
      " 11  HEI2015C9_FATTYACID       8549 non-null   float64\n",
      " 12  HEI2015C10_SODIUM         8549 non-null   float64\n",
      " 13  HEI2015C11_REFINEDGRAIN   8549 non-null   float64\n",
      " 14  HEI2015C12_SFAT           8549 non-null   float64\n",
      " 15  HEI2015C13_ADDSUG         8549 non-null   float64\n",
      " 16  HEI2015_TOTAL_SCORE       8549 non-null   float64\n",
      "dtypes: float64(16), int64(1)\n",
      "memory usage: 1.2 MB\n"
     ]
    }
   ],
   "source": [
    "df_pag_hei.info() # 9424 observações de crianças e adultos"
   ]
  },
  {
   "cell_type": "code",
   "execution_count": 5,
   "id": "0612302d",
   "metadata": {
    "id": "0612302d"
   },
   "outputs": [],
   "source": [
    "# Unindo os dois df pela variavel seqn\n",
    "\n",
    "db_merge = pd.merge(df_phq,df_pag_hei, how='left', on = ['SEQN'])"
   ]
  },
  {
   "cell_type": "code",
   "execution_count": 6,
   "id": "e1f4990e",
   "metadata": {
    "colab": {
     "base_uri": "https://localhost:8080/"
    },
    "executionInfo": {
     "elapsed": 33,
     "status": "ok",
     "timestamp": 1644322122951,
     "user": {
      "displayName": "Brisa Gonçalves",
      "photoUrl": "https://lh3.googleusercontent.com/a-/AOh14GitzE3yBEnyqzopa88QrW2MbETwuEkAWSdRG9efhg0=s64",
      "userId": "03031556768674861812"
     },
     "user_tz": 180
    },
    "id": "e1f4990e",
    "outputId": "388e28c1-e0d6-48d9-d246-5aa234b89fa9",
    "scrolled": false
   },
   "outputs": [
    {
     "name": "stdout",
     "output_type": "stream",
     "text": [
      "<class 'pandas.core.frame.DataFrame'>\n",
      "Int64Index: 5334 entries, 0 to 5333\n",
      "Data columns (total 31 columns):\n",
      " #   Column                    Non-Null Count  Dtype  \n",
      "---  ------                    --------------  -----  \n",
      " 0   SEQN                      5334 non-null   int64  \n",
      " 1   DPQ010                    4836 non-null   float64\n",
      " 2   DPQ020                    4836 non-null   float64\n",
      " 3   DPQ030                    4836 non-null   float64\n",
      " 4   DPQ040                    4836 non-null   float64\n",
      " 5   DPQ050                    4836 non-null   float64\n",
      " 6   DPQ060                    4836 non-null   float64\n",
      " 7   DPQ070                    4836 non-null   float64\n",
      " 8   DPQ080                    4836 non-null   float64\n",
      " 9   DPQ090                    4836 non-null   float64\n",
      " 10  RIAGENDR                  5334 non-null   int64  \n",
      " 11  RIDAGEYR                  5334 non-null   int64  \n",
      " 12  RIDRETH1                  5334 non-null   int64  \n",
      " 13  DMDEDUC                   5334 non-null   int64  \n",
      " 14  INDFMINC                  5287 non-null   float64\n",
      " 15  PAG_MINW                  5334 non-null   float64\n",
      " 16  ADHERENCE                 5334 non-null   float64\n",
      " 17  HEI2015C1_TOTALVEG        5060 non-null   float64\n",
      " 18  HEI2015C2_GREEN_AND_BEAN  5060 non-null   float64\n",
      " 19  HEI2015C3_TOTALFRUIT      5060 non-null   float64\n",
      " 20  HEI2015C4_WHOLEFRUIT      5060 non-null   float64\n",
      " 21  HEI2015C5_WHOLEGRAIN      5060 non-null   float64\n",
      " 22  HEI2015C6_TOTALDAIRY      5060 non-null   float64\n",
      " 23  HEI2015C7_TOTPROT         5060 non-null   float64\n",
      " 24  HEI2015C8_SEAPLANT_PROT   5060 non-null   float64\n",
      " 25  HEI2015C9_FATTYACID       5060 non-null   float64\n",
      " 26  HEI2015C10_SODIUM         5060 non-null   float64\n",
      " 27  HEI2015C11_REFINEDGRAIN   5060 non-null   float64\n",
      " 28  HEI2015C12_SFAT           5060 non-null   float64\n",
      " 29  HEI2015C13_ADDSUG         5060 non-null   float64\n",
      " 30  HEI2015_TOTAL_SCORE       5060 non-null   float64\n",
      "dtypes: float64(26), int64(5)\n",
      "memory usage: 1.3 MB\n"
     ]
    }
   ],
   "source": [
    "db_merge.info()"
   ]
  },
  {
   "cell_type": "code",
   "execution_count": 7,
   "id": "007b6e43",
   "metadata": {
    "id": "007b6e43"
   },
   "outputs": [],
   "source": [
    "# Renomeando as colunas para maior interpretabilidade dos dados\n",
    "\n",
    "db_merge.columns = ['seqn','dpq010','dpq020','dpq030', 'dpq040','dpq050', 'dpq060', 'dpq070', 'dpq080', 'dpq090','genero','idade','raça_etnia','escolaridade','renda_familiar_anual','aerobico_min','aderencia','vegetais_total','verduras_verde_escuras_leguminosas','frutais_total','frutas_in_natura','graos_integrais','laticinios','proteinas_total','proteinas_vegetais','acido_graxo','sodio', 'graos_refinados','gordura_saturada','açucar_adicional','escore_total']"
   ]
  },
  {
   "cell_type": "code",
   "execution_count": 8,
   "id": "64c9e675",
   "metadata": {
    "colab": {
     "base_uri": "https://localhost:8080/"
    },
    "executionInfo": {
     "elapsed": 415,
     "status": "ok",
     "timestamp": 1644322131913,
     "user": {
      "displayName": "Brisa Gonçalves",
      "photoUrl": "https://lh3.googleusercontent.com/a-/AOh14GitzE3yBEnyqzopa88QrW2MbETwuEkAWSdRG9efhg0=s64",
      "userId": "03031556768674861812"
     },
     "user_tz": 180
    },
    "id": "64c9e675",
    "outputId": "fc8994c2-6504-482f-defd-d3d53752ee81"
   },
   "outputs": [
    {
     "name": "stdout",
     "output_type": "stream",
     "text": [
      "<class 'pandas.core.frame.DataFrame'>\n",
      "Int64Index: 5334 entries, 0 to 5333\n",
      "Data columns (total 31 columns):\n",
      " #   Column                              Non-Null Count  Dtype  \n",
      "---  ------                              --------------  -----  \n",
      " 0   seqn                                5334 non-null   int64  \n",
      " 1   dpq010                              4836 non-null   float64\n",
      " 2   dpq020                              4836 non-null   float64\n",
      " 3   dpq030                              4836 non-null   float64\n",
      " 4   dpq040                              4836 non-null   float64\n",
      " 5   dpq050                              4836 non-null   float64\n",
      " 6   dpq060                              4836 non-null   float64\n",
      " 7   dpq070                              4836 non-null   float64\n",
      " 8   dpq080                              4836 non-null   float64\n",
      " 9   dpq090                              4836 non-null   float64\n",
      " 10  genero                              5334 non-null   int64  \n",
      " 11  idade                               5334 non-null   int64  \n",
      " 12  raça_etnia                          5334 non-null   int64  \n",
      " 13  escolaridade                        5334 non-null   int64  \n",
      " 14  renda_familiar_anual                5287 non-null   float64\n",
      " 15  aerobico_min                        5334 non-null   float64\n",
      " 16  aderencia                           5334 non-null   float64\n",
      " 17  vegetais_total                      5060 non-null   float64\n",
      " 18  verduras_verde_escuras_leguminosas  5060 non-null   float64\n",
      " 19  frutais_total                       5060 non-null   float64\n",
      " 20  frutas_in_natura                    5060 non-null   float64\n",
      " 21  graos_integrais                     5060 non-null   float64\n",
      " 22  laticinios                          5060 non-null   float64\n",
      " 23  proteinas_total                     5060 non-null   float64\n",
      " 24  proteinas_vegetais                  5060 non-null   float64\n",
      " 25  acido_graxo                         5060 non-null   float64\n",
      " 26  sodio                               5060 non-null   float64\n",
      " 27  graos_refinados                     5060 non-null   float64\n",
      " 28  gordura_saturada                    5060 non-null   float64\n",
      " 29  açucar_adicional                    5060 non-null   float64\n",
      " 30  escore_total                        5060 non-null   float64\n",
      "dtypes: float64(26), int64(5)\n",
      "memory usage: 1.3 MB\n"
     ]
    }
   ],
   "source": [
    "# datasets unidos\n",
    "\n",
    "db_merge.info()"
   ]
  },
  {
   "cell_type": "markdown",
   "id": "c44d73e4",
   "metadata": {
    "id": "c44d73e4"
   },
   "source": [
    "### 1.2) Tratamento das Variáveis"
   ]
  },
  {
   "cell_type": "code",
   "execution_count": 9,
   "id": "67d39875",
   "metadata": {
    "colab": {
     "base_uri": "https://localhost:8080/"
    },
    "executionInfo": {
     "elapsed": 600,
     "status": "ok",
     "timestamp": 1644322137681,
     "user": {
      "displayName": "Brisa Gonçalves",
      "photoUrl": "https://lh3.googleusercontent.com/a-/AOh14GitzE3yBEnyqzopa88QrW2MbETwuEkAWSdRG9efhg0=s64",
      "userId": "03031556768674861812"
     },
     "user_tz": 180
    },
    "id": "67d39875",
    "outputId": "56b0d931-14d7-4a03-ad89-027dcbccb738"
   },
   "outputs": [
    {
     "data": {
      "text/plain": [
       "seqn                                    0\n",
       "dpq010                                498\n",
       "dpq020                                498\n",
       "dpq030                                498\n",
       "dpq040                                498\n",
       "dpq050                                498\n",
       "dpq060                                498\n",
       "dpq070                                498\n",
       "dpq080                                498\n",
       "dpq090                                498\n",
       "genero                                  0\n",
       "idade                                   0\n",
       "raça_etnia                              0\n",
       "escolaridade                            0\n",
       "renda_familiar_anual                   47\n",
       "aerobico_min                            0\n",
       "aderencia                               0\n",
       "vegetais_total                        274\n",
       "verduras_verde_escuras_leguminosas    274\n",
       "frutais_total                         274\n",
       "frutas_in_natura                      274\n",
       "graos_integrais                       274\n",
       "laticinios                            274\n",
       "proteinas_total                       274\n",
       "proteinas_vegetais                    274\n",
       "acido_graxo                           274\n",
       "sodio                                 274\n",
       "graos_refinados                       274\n",
       "gordura_saturada                      274\n",
       "açucar_adicional                      274\n",
       "escore_total                          274\n",
       "dtype: int64"
      ]
     },
     "execution_count": 9,
     "metadata": {},
     "output_type": "execute_result"
    }
   ],
   "source": [
    "# Verificando a quantidade de valores faltantes\n",
    "\n",
    "db_merge.isna().sum()"
   ]
  },
  {
   "cell_type": "code",
   "execution_count": 10,
   "id": "b203a0c1",
   "metadata": {
    "colab": {
     "base_uri": "https://localhost:8080/"
    },
    "executionInfo": {
     "elapsed": 398,
     "status": "ok",
     "timestamp": 1644322142625,
     "user": {
      "displayName": "Brisa Gonçalves",
      "photoUrl": "https://lh3.googleusercontent.com/a-/AOh14GitzE3yBEnyqzopa88QrW2MbETwuEkAWSdRG9efhg0=s64",
      "userId": "03031556768674861812"
     },
     "user_tz": 180
    },
    "id": "b203a0c1",
    "outputId": "6bdd904e-4f67-4e5c-8ca4-1dc037a375e5"
   },
   "outputs": [
    {
     "data": {
      "text/plain": [
       "seqn                                  0.000000\n",
       "dpq010                                9.336333\n",
       "dpq020                                9.336333\n",
       "dpq030                                9.336333\n",
       "dpq040                                9.336333\n",
       "dpq050                                9.336333\n",
       "dpq060                                9.336333\n",
       "dpq070                                9.336333\n",
       "dpq080                                9.336333\n",
       "dpq090                                9.336333\n",
       "genero                                0.000000\n",
       "idade                                 0.000000\n",
       "raça_etnia                            0.000000\n",
       "escolaridade                          0.000000\n",
       "renda_familiar_anual                  0.881140\n",
       "aerobico_min                          0.000000\n",
       "aderencia                             0.000000\n",
       "vegetais_total                        5.136858\n",
       "verduras_verde_escuras_leguminosas    5.136858\n",
       "frutais_total                         5.136858\n",
       "frutas_in_natura                      5.136858\n",
       "graos_integrais                       5.136858\n",
       "laticinios                            5.136858\n",
       "proteinas_total                       5.136858\n",
       "proteinas_vegetais                    5.136858\n",
       "acido_graxo                           5.136858\n",
       "sodio                                 5.136858\n",
       "graos_refinados                       5.136858\n",
       "gordura_saturada                      5.136858\n",
       "açucar_adicional                      5.136858\n",
       "escore_total                          5.136858\n",
       "dtype: float64"
      ]
     },
     "execution_count": 10,
     "metadata": {},
     "output_type": "execute_result"
    }
   ],
   "source": [
    "# Calculando a porcentagem da media de valores nulos por linha\n",
    "# Como para todas as variáveis o valor foi menos que 10%, optei por não tratar os valores nulos\n",
    "\n",
    "db_merge.isna().mean(axis=0)* 100"
   ]
  },
  {
   "cell_type": "code",
   "execution_count": 11,
   "id": "467c7681",
   "metadata": {
    "colab": {
     "base_uri": "https://localhost:8080/",
     "height": 282
    },
    "executionInfo": {
     "elapsed": 443,
     "status": "ok",
     "timestamp": 1644322149457,
     "user": {
      "displayName": "Brisa Gonçalves",
      "photoUrl": "https://lh3.googleusercontent.com/a-/AOh14GitzE3yBEnyqzopa88QrW2MbETwuEkAWSdRG9efhg0=s64",
      "userId": "03031556768674861812"
     },
     "user_tz": 180
    },
    "id": "467c7681",
    "outputId": "2a5c9d11-c775-4896-9c8d-1e4e07915bd7"
   },
   "outputs": [
    {
     "data": {
      "text/html": [
       "<div>\n",
       "<style scoped>\n",
       "    .dataframe tbody tr th:only-of-type {\n",
       "        vertical-align: middle;\n",
       "    }\n",
       "\n",
       "    .dataframe tbody tr th {\n",
       "        vertical-align: top;\n",
       "    }\n",
       "\n",
       "    .dataframe thead tr th {\n",
       "        text-align: left;\n",
       "    }\n",
       "</style>\n",
       "<table border=\"1\" class=\"dataframe\">\n",
       "  <thead>\n",
       "    <tr>\n",
       "      <th></th>\n",
       "      <th>dpq010</th>\n",
       "      <th>dpq020</th>\n",
       "      <th>dpq030</th>\n",
       "      <th>dpq040</th>\n",
       "      <th>dpq050</th>\n",
       "      <th>dpq060</th>\n",
       "      <th>dpq070</th>\n",
       "      <th>dpq080</th>\n",
       "      <th>dpq090</th>\n",
       "    </tr>\n",
       "    <tr>\n",
       "      <th></th>\n",
       "      <th>value_counts</th>\n",
       "      <th>value_counts</th>\n",
       "      <th>value_counts</th>\n",
       "      <th>value_counts</th>\n",
       "      <th>value_counts</th>\n",
       "      <th>value_counts</th>\n",
       "      <th>value_counts</th>\n",
       "      <th>value_counts</th>\n",
       "      <th>value_counts</th>\n",
       "    </tr>\n",
       "  </thead>\n",
       "  <tbody>\n",
       "    <tr>\n",
       "      <th>0.0</th>\n",
       "      <td>3850</td>\n",
       "      <td>3769</td>\n",
       "      <td>3152</td>\n",
       "      <td>2429</td>\n",
       "      <td>3813</td>\n",
       "      <td>4134</td>\n",
       "      <td>4070</td>\n",
       "      <td>4362</td>\n",
       "      <td>4667</td>\n",
       "    </tr>\n",
       "    <tr>\n",
       "      <th>1.0</th>\n",
       "      <td>673</td>\n",
       "      <td>769</td>\n",
       "      <td>1071</td>\n",
       "      <td>1706</td>\n",
       "      <td>691</td>\n",
       "      <td>513</td>\n",
       "      <td>545</td>\n",
       "      <td>341</td>\n",
       "      <td>122</td>\n",
       "    </tr>\n",
       "    <tr>\n",
       "      <th>2.0</th>\n",
       "      <td>180</td>\n",
       "      <td>179</td>\n",
       "      <td>286</td>\n",
       "      <td>370</td>\n",
       "      <td>160</td>\n",
       "      <td>95</td>\n",
       "      <td>118</td>\n",
       "      <td>79</td>\n",
       "      <td>32</td>\n",
       "    </tr>\n",
       "    <tr>\n",
       "      <th>3.0</th>\n",
       "      <td>124</td>\n",
       "      <td>114</td>\n",
       "      <td>320</td>\n",
       "      <td>326</td>\n",
       "      <td>168</td>\n",
       "      <td>89</td>\n",
       "      <td>99</td>\n",
       "      <td>45</td>\n",
       "      <td>13</td>\n",
       "    </tr>\n",
       "    <tr>\n",
       "      <th>9.0</th>\n",
       "      <td>9</td>\n",
       "      <td>5</td>\n",
       "      <td>7</td>\n",
       "      <td>5</td>\n",
       "      <td>4</td>\n",
       "      <td>5</td>\n",
       "      <td>4</td>\n",
       "      <td>9</td>\n",
       "      <td>2</td>\n",
       "    </tr>\n",
       "  </tbody>\n",
       "</table>\n",
       "</div>"
      ],
      "text/plain": [
       "          dpq010       dpq020       dpq030       dpq040       dpq050  \\\n",
       "    value_counts value_counts value_counts value_counts value_counts   \n",
       "0.0         3850         3769         3152         2429         3813   \n",
       "1.0          673          769         1071         1706          691   \n",
       "2.0          180          179          286          370          160   \n",
       "3.0          124          114          320          326          168   \n",
       "9.0            9            5            7            5            4   \n",
       "\n",
       "          dpq060       dpq070       dpq080       dpq090  \n",
       "    value_counts value_counts value_counts value_counts  \n",
       "0.0         4134         4070         4362         4667  \n",
       "1.0          513          545          341          122  \n",
       "2.0           95          118           79           32  \n",
       "3.0           89           99           45           13  \n",
       "9.0            5            4            9            2  "
      ]
     },
     "execution_count": 11,
     "metadata": {},
     "output_type": "execute_result"
    }
   ],
   "source": [
    "# Avaliando frequencia das variaveis quantitativas do dpq(Questionário de Sintomas de Depressão)\n",
    "\n",
    "db_merge[[\n",
    "\"dpq010\",\n",
    "\"dpq020\",\n",
    "\"dpq030\",\n",
    "\"dpq040\",\n",
    "\"dpq050\",\n",
    "\"dpq060\",\n",
    "\"dpq070\",\n",
    "\"dpq080\",\n",
    "\"dpq090\"]].agg(['value_counts'])"
   ]
  },
  {
   "cell_type": "code",
   "execution_count": 12,
   "id": "81a836f8",
   "metadata": {
    "colab": {
     "base_uri": "https://localhost:8080/"
    },
    "executionInfo": {
     "elapsed": 441,
     "status": "ok",
     "timestamp": 1644322178294,
     "user": {
      "displayName": "Brisa Gonçalves",
      "photoUrl": "https://lh3.googleusercontent.com/a-/AOh14GitzE3yBEnyqzopa88QrW2MbETwuEkAWSdRG9efhg0=s64",
      "userId": "03031556768674861812"
     },
     "user_tz": 180
    },
    "id": "81a836f8",
    "outputId": "c45e0db7-3166-45aa-d194-0eeb9503a9a9"
   },
   "outputs": [
    {
     "data": {
      "text/plain": [
       "raça_etnia\n",
       "1             1133\n",
       "2              164\n",
       "3             2516\n",
       "4             1300\n",
       "5              221\n",
       "dtype: int64"
      ]
     },
     "execution_count": 12,
     "metadata": {},
     "output_type": "execute_result"
    }
   ],
   "source": [
    "# Soma dos valores da coluna de Raça/Etnia\n",
    "\n",
    "# RIDRETH1 com códigos errados no desafio\n",
    "# 1\tMexican American\n",
    "# 2\tOther Hispanic\n",
    "# 3\tNon-Hispanic White\n",
    "# 4\tNon-Hispanic Black\n",
    "# 5\tOther Race - Including Multi-Racial\n",
    "\n",
    "\n",
    "db_merge[[\"raça_etnia\"]].value_counts(sort = False)"
   ]
  },
  {
   "cell_type": "code",
   "execution_count": 13,
   "id": "25ee9198",
   "metadata": {
    "colab": {
     "base_uri": "https://localhost:8080/"
    },
    "executionInfo": {
     "elapsed": 387,
     "status": "ok",
     "timestamp": 1644322181753,
     "user": {
      "displayName": "Brisa Gonçalves",
      "photoUrl": "https://lh3.googleusercontent.com/a-/AOh14GitzE3yBEnyqzopa88QrW2MbETwuEkAWSdRG9efhg0=s64",
      "userId": "03031556768674861812"
     },
     "user_tz": 180
    },
    "id": "25ee9198",
    "outputId": "f53d321e-9095-45f8-adc5-c965e5dd9bff"
   },
   "outputs": [
    {
     "data": {
      "text/plain": [
       "escolaridade\n",
       "1                618\n",
       "2                936\n",
       "3               1335\n",
       "4               1498\n",
       "5                939\n",
       "7                  4\n",
       "9                  4\n",
       "dtype: int64"
      ]
     },
     "execution_count": 13,
     "metadata": {},
     "output_type": "execute_result"
    }
   ],
   "source": [
    "# Soma variáveis coluna Escolaridade\n",
    "# categorias 7 e 9 tem poucas observaçoes e serão tratadas separadamente\n",
    "\n",
    "db_merge[[\"escolaridade\"]].value_counts(sort = False)"
   ]
  },
  {
   "cell_type": "code",
   "execution_count": 14,
   "id": "46d8f1b7",
   "metadata": {
    "colab": {
     "base_uri": "https://localhost:8080/"
    },
    "executionInfo": {
     "elapsed": 417,
     "status": "ok",
     "timestamp": 1644322193733,
     "user": {
      "displayName": "Brisa Gonçalves",
      "photoUrl": "https://lh3.googleusercontent.com/a-/AOh14GitzE3yBEnyqzopa88QrW2MbETwuEkAWSdRG9efhg0=s64",
      "userId": "03031556768674861812"
     },
     "user_tz": 180
    },
    "id": "46d8f1b7",
    "outputId": "9c3c276a-9ecb-4c4d-e7c9-dedae4a51a62"
   },
   "outputs": [
    {
     "data": {
      "text/plain": [
       "renda_familiar_anual\n",
       "1.0                      190\n",
       "2.0                      281\n",
       "3.0                      440\n",
       "4.0                      412\n",
       "5.0                      426\n",
       "6.0                      678\n",
       "7.0                      535\n",
       "8.0                      485\n",
       "9.0                      297\n",
       "10.0                     278\n",
       "11.0                    1044\n",
       "12.0                      78\n",
       "13.0                      30\n",
       "77.0                      36\n",
       "99.0                      77\n",
       "dtype: int64"
      ]
     },
     "execution_count": 14,
     "metadata": {},
     "output_type": "execute_result"
    }
   ],
   "source": [
    "# Soma variáveis coluna Renda Anual Familiar (US$)\n",
    "# variável com muitas categorias distribuídas de maneira desigual\n",
    "# algumas variáveis serão reagrupadas pera melhor avalição dos dados\n",
    "\n",
    "db_merge[[\"renda_familiar_anual\"]].value_counts(sort = False)"
   ]
  },
  {
   "cell_type": "code",
   "execution_count": 15,
   "id": "ab08908e",
   "metadata": {
    "colab": {
     "base_uri": "https://localhost:8080/"
    },
    "executionInfo": {
     "elapsed": 448,
     "status": "ok",
     "timestamp": 1644322205791,
     "user": {
      "displayName": "Brisa Gonçalves",
      "photoUrl": "https://lh3.googleusercontent.com/a-/AOh14GitzE3yBEnyqzopa88QrW2MbETwuEkAWSdRG9efhg0=s64",
      "userId": "03031556768674861812"
     },
     "user_tz": 180
    },
    "id": "ab08908e",
    "outputId": "9750a2d2-8ca1-4149-c4aa-f09718a535ff"
   },
   "outputs": [
    {
     "data": {
      "text/plain": [
       "aderencia\n",
       "1.0          2304\n",
       "2.0           834\n",
       "3.0          2196\n",
       "dtype: int64"
      ]
     },
     "execution_count": 15,
     "metadata": {},
     "output_type": "execute_result"
    }
   ],
   "source": [
    "# Soma variáveis coluna grupo Aderência ao Physical Activity Guidiline\n",
    "\n",
    "db_merge[[\"aderencia\"]].value_counts(sort = False)"
   ]
  },
  {
   "cell_type": "markdown",
   "id": "7975b0a8",
   "metadata": {
    "id": "7975b0a8"
   },
   "source": [
    "### Observações:\n",
    "\n",
    "* Abaixo agrupei e recategorizei as variáveis qualitativas:\n",
    "\n",
    "1. Para as variáveis 'DPQ0X0' e 'escolaridade' substituí as categorias 7 e 9 por missing, por conter poucas observações\n",
    "\n",
    "2. Para variável 'raça_etnia' agrupei as categorias 2 e 5: 'outras raças'\n",
    "\n",
    "3. Recategorizei a variável 'renda_familiar_anual' com o ponto médio de cada categoria por conter muitas categorias nesta variável. Iremos prosseguir a análise desta variável como uma variável quantitativa."
   ]
  },
  {
   "cell_type": "code",
   "execution_count": 16,
   "id": "ef8be455",
   "metadata": {
    "id": "ef8be455"
   },
   "outputs": [],
   "source": [
    "# Substituir categorias como descrito acima\n",
    "# np.nan = 'not a number'\n",
    "\n",
    "replace_map = {\n",
    "               \n",
    "  \"dpq010\": {7: np.nan, 9: np.nan},\n",
    "  \"dpq020\": {7: np.nan, 9: np.nan},\n",
    "  \"dpq030\": {7: np.nan, 9: np.nan},\n",
    "  \"dpq040\": {7: np.nan, 9: np.nan},\n",
    "  \"dpq050\": {7: np.nan, 9: np.nan},\n",
    "  \"dpq060\": {7: np.nan, 9: np.nan},\n",
    "  \"dpq070\": {7: np.nan, 9: np.nan},\n",
    "  \"dpq080\": {7: np.nan, 9: np.nan},\n",
    "  \"dpq090\": {7: np.nan, 9: np.nan},\n",
    "  \"raça_etnia\": {5: 2}, \n",
    "  \"escolaridade\": {7: np.nan, 9: np.nan},\n",
    "  \"renda_familiar_anual\": {1: np.mean([0,4999]), 2: np.mean([5000,9999]), 3: np.mean([10000,14999]),4: np.mean([15000,19999]),\n",
    "               5: np.mean([20000,24999]),6: np.mean([25000,34999]), 7: np.mean([35000,44999]), 8: np.mean([45000,54999]),\n",
    "               9: np.mean([55000,64999]), 10: np.mean([65000,74999]), 11: 75000, 12: np.mean([20000, 90000]), 13: np.mean([0, 19999]),\n",
    "               77: np.nan, 99: np.nan}\n",
    "}\n",
    "\n",
    "db_treated = db_merge.replace(replace_map)"
   ]
  },
  {
   "cell_type": "markdown",
   "id": "ebf2a8fc",
   "metadata": {
    "id": "ebf2a8fc"
   },
   "source": [
    "### 1.3) Criando variáveis"
   ]
  },
  {
   "cell_type": "code",
   "execution_count": 17,
   "id": "2cb0a867",
   "metadata": {
    "colab": {
     "base_uri": "https://localhost:8080/"
    },
    "executionInfo": {
     "elapsed": 386,
     "status": "ok",
     "timestamp": 1644322909301,
     "user": {
      "displayName": "Brisa Gonçalves",
      "photoUrl": "https://lh3.googleusercontent.com/a-/AOh14GitzE3yBEnyqzopa88QrW2MbETwuEkAWSdRG9efhg0=s64",
      "userId": "03031556768674861812"
     },
     "user_tz": 180
    },
    "id": "2cb0a867",
    "outputId": "1fbc1226-0469-45a0-9fa2-7b50f0e2aee0"
   },
   "outputs": [
    {
     "data": {
      "text/plain": [
       "dpq010    0.095051\n",
       "dpq020    0.094301\n",
       "dpq030    0.094676\n",
       "dpq040    0.094301\n",
       "dpq050    0.094113\n",
       "dpq060    0.094301\n",
       "dpq070    0.094113\n",
       "dpq080    0.095051\n",
       "dpq090    0.093738\n",
       "dtype: float64"
      ]
     },
     "execution_count": 17,
     "metadata": {},
     "output_type": "execute_result"
    }
   ],
   "source": [
    "# Checando casos faltantes para as variáveis do phq9 - Escore Patient Health Questionnaire-9:\n",
    "\n",
    "db_treated[[\"dpq010\", \n",
    "     \"dpq020\", \n",
    "     \"dpq030\", \n",
    "     \"dpq040\",\n",
    "     \"dpq050\", \n",
    "     \"dpq060\", \n",
    "     \"dpq070\", \n",
    "     \"dpq080\", \n",
    "     \"dpq090\"]].isna().sum()/db_treated.shape[0]"
   ]
  },
  {
   "cell_type": "markdown",
   "id": "7c4bd333",
   "metadata": {},
   "source": [
    "### Observações\n",
    "\n",
    "* Será construída a variável <b>'phq9' </b> que se refere ao questionário respondido pelos indíviduos sobre sintomas de depressão, baseado em um sistema de pontuação. Classificação de sintomas -> entre 0-5: Sem sintomas; entre 5-9: Sintomas leves; entre 9-14: Sintomas leves a moderados; entre 14-19: Sintomas moderados a severos e acima de 19: Sintomas severos.\n",
    "* Após esse primeiro tratamento a variável phq9 será agrupada em, <b>0: Sem sintomas, 1: Sintomas leves e 2: Sintomas moderados a severos</b>, resultando na variável <b>'phq_grp_final'</b>, para simplificar o processo de análise."
   ]
  },
  {
   "cell_type": "code",
   "execution_count": 18,
   "id": "cd82d2c4",
   "metadata": {
    "colab": {
     "base_uri": "https://localhost:8080/",
     "height": 206
    },
    "executionInfo": {
     "elapsed": 614,
     "status": "ok",
     "timestamp": 1644322913594,
     "user": {
      "displayName": "Brisa Gonçalves",
      "photoUrl": "https://lh3.googleusercontent.com/a-/AOh14GitzE3yBEnyqzopa88QrW2MbETwuEkAWSdRG9efhg0=s64",
      "userId": "03031556768674861812"
     },
     "user_tz": 180
    },
    "id": "cd82d2c4",
    "outputId": "02d98cd4-f472-4fba-b079-7bf8feb1184a"
   },
   "outputs": [
    {
     "data": {
      "text/html": [
       "<div>\n",
       "<style scoped>\n",
       "    .dataframe tbody tr th:only-of-type {\n",
       "        vertical-align: middle;\n",
       "    }\n",
       "\n",
       "    .dataframe tbody tr th {\n",
       "        vertical-align: top;\n",
       "    }\n",
       "\n",
       "    .dataframe thead th {\n",
       "        text-align: right;\n",
       "    }\n",
       "</style>\n",
       "<table border=\"1\" class=\"dataframe\">\n",
       "  <thead>\n",
       "    <tr style=\"text-align: right;\">\n",
       "      <th></th>\n",
       "      <th>dpq010</th>\n",
       "      <th>dpq020</th>\n",
       "      <th>dpq030</th>\n",
       "      <th>dpq040</th>\n",
       "      <th>dpq050</th>\n",
       "      <th>dpq060</th>\n",
       "      <th>dpq070</th>\n",
       "      <th>dpq080</th>\n",
       "      <th>dpq090</th>\n",
       "      <th>phq9</th>\n",
       "    </tr>\n",
       "  </thead>\n",
       "  <tbody>\n",
       "    <tr>\n",
       "      <th>0</th>\n",
       "      <td>NaN</td>\n",
       "      <td>NaN</td>\n",
       "      <td>NaN</td>\n",
       "      <td>NaN</td>\n",
       "      <td>NaN</td>\n",
       "      <td>NaN</td>\n",
       "      <td>NaN</td>\n",
       "      <td>NaN</td>\n",
       "      <td>NaN</td>\n",
       "      <td>NaN</td>\n",
       "    </tr>\n",
       "    <tr>\n",
       "      <th>1</th>\n",
       "      <td>0.0</td>\n",
       "      <td>0.0</td>\n",
       "      <td>0.0</td>\n",
       "      <td>0.0</td>\n",
       "      <td>0.0</td>\n",
       "      <td>0.0</td>\n",
       "      <td>0.0</td>\n",
       "      <td>0.0</td>\n",
       "      <td>0.0</td>\n",
       "      <td>0.0</td>\n",
       "    </tr>\n",
       "    <tr>\n",
       "      <th>2</th>\n",
       "      <td>0.0</td>\n",
       "      <td>0.0</td>\n",
       "      <td>0.0</td>\n",
       "      <td>0.0</td>\n",
       "      <td>0.0</td>\n",
       "      <td>0.0</td>\n",
       "      <td>0.0</td>\n",
       "      <td>0.0</td>\n",
       "      <td>0.0</td>\n",
       "      <td>0.0</td>\n",
       "    </tr>\n",
       "    <tr>\n",
       "      <th>3</th>\n",
       "      <td>0.0</td>\n",
       "      <td>0.0</td>\n",
       "      <td>0.0</td>\n",
       "      <td>0.0</td>\n",
       "      <td>0.0</td>\n",
       "      <td>0.0</td>\n",
       "      <td>0.0</td>\n",
       "      <td>0.0</td>\n",
       "      <td>0.0</td>\n",
       "      <td>0.0</td>\n",
       "    </tr>\n",
       "    <tr>\n",
       "      <th>4</th>\n",
       "      <td>0.0</td>\n",
       "      <td>0.0</td>\n",
       "      <td>0.0</td>\n",
       "      <td>0.0</td>\n",
       "      <td>3.0</td>\n",
       "      <td>1.0</td>\n",
       "      <td>0.0</td>\n",
       "      <td>0.0</td>\n",
       "      <td>0.0</td>\n",
       "      <td>4.0</td>\n",
       "    </tr>\n",
       "  </tbody>\n",
       "</table>\n",
       "</div>"
      ],
      "text/plain": [
       "   dpq010  dpq020  dpq030  dpq040  dpq050  dpq060  dpq070  dpq080  dpq090  \\\n",
       "0     NaN     NaN     NaN     NaN     NaN     NaN     NaN     NaN     NaN   \n",
       "1     0.0     0.0     0.0     0.0     0.0     0.0     0.0     0.0     0.0   \n",
       "2     0.0     0.0     0.0     0.0     0.0     0.0     0.0     0.0     0.0   \n",
       "3     0.0     0.0     0.0     0.0     0.0     0.0     0.0     0.0     0.0   \n",
       "4     0.0     0.0     0.0     0.0     3.0     1.0     0.0     0.0     0.0   \n",
       "\n",
       "   phq9  \n",
       "0   NaN  \n",
       "1   0.0  \n",
       "2   0.0  \n",
       "3   0.0  \n",
       "4   4.0  "
      ]
     },
     "execution_count": 18,
     "metadata": {},
     "output_type": "execute_result"
    }
   ],
   "source": [
    "# Contruindo a variavel phq9\n",
    "#skipna: exclui valores NA/null\n",
    "\n",
    "db_treated[\"phq9\"] = db_treated[[\"dpq010\", \n",
    "                   \"dpq020\", \n",
    "                   \"dpq030\", \n",
    "                   \"dpq040\", \n",
    "                   \"dpq050\", \n",
    "                   \"dpq060\", \n",
    "                   \"dpq070\", \n",
    "                   \"dpq080\", \n",
    "                   \"dpq090\"]].sum(axis = 'columns', skipna = False)\n",
    "\n",
    "db_treated[[\"dpq010\", \n",
    "     \"dpq020\", \n",
    "     \"dpq030\", \n",
    "     \"dpq040\",\n",
    "     \"dpq050\", \n",
    "     \"dpq060\", \n",
    "     \"dpq070\", \n",
    "     \"dpq080\", \n",
    "     \"dpq090\",\n",
    "     \"phq9\"]].head()"
   ]
  },
  {
   "cell_type": "code",
   "execution_count": 19,
   "id": "daa6e45f",
   "metadata": {
    "colab": {
     "base_uri": "https://localhost:8080/"
    },
    "executionInfo": {
     "elapsed": 392,
     "status": "ok",
     "timestamp": 1644322922848,
     "user": {
      "displayName": "Brisa Gonçalves",
      "photoUrl": "https://lh3.googleusercontent.com/a-/AOh14GitzE3yBEnyqzopa88QrW2MbETwuEkAWSdRG9efhg0=s64",
      "userId": "03031556768674861812"
     },
     "user_tz": 180
    },
    "id": "daa6e45f",
    "outputId": "67dd114e-2dfc-4057-9c19-6449251d9e41",
    "scrolled": true
   },
   "outputs": [
    {
     "data": {
      "text/plain": [
       "phq_grp\n",
       "0.0        4013\n",
       "1.0         489\n",
       "2.0         201\n",
       "3.0          73\n",
       "4.0          23\n",
       "dtype: int64"
      ]
     },
     "execution_count": 19,
     "metadata": {},
     "output_type": "execute_result"
    }
   ],
   "source": [
    "# Construindo variável phq_grp, como a soma das variáveis DPQ010 a DPQ090\n",
    "\n",
    "conditions = [\n",
    "  (db_treated['phq9'].isna()),\n",
    "  (db_treated['phq9'] <= 5), # Sem Sintomas\n",
    "  (db_treated['phq9'] > 5) & (db_treated['phq9'] <= 9), # Sintomas Leves\n",
    "  (db_treated['phq9'] > 9) & (db_treated['phq9'] <= 14), # Sintomas Leves a Moderados\n",
    "  (db_treated['phq9'] > 14) & (db_treated['phq9'] <= 19), # Sintomas Moderados a Severos\n",
    "  (db_treated['phq9'] > 19) # Sintomas Severos\n",
    "    ]\n",
    "values = [np.nan, 0, 1, 2, 3, 4]\n",
    "\n",
    "db_treated[\"phq_grp\"] = np.select(conditions, values) # Construindo variável\n",
    "\n",
    "db_treated[[\"phq_grp\"]].value_counts(sort = False) # Avaliando frequencia"
   ]
  },
  {
   "cell_type": "code",
   "execution_count": 20,
   "id": "2052f561",
   "metadata": {
    "colab": {
     "base_uri": "https://localhost:8080/"
    },
    "executionInfo": {
     "elapsed": 498,
     "status": "ok",
     "timestamp": 1644322938016,
     "user": {
      "displayName": "Brisa Gonçalves",
      "photoUrl": "https://lh3.googleusercontent.com/a-/AOh14GitzE3yBEnyqzopa88QrW2MbETwuEkAWSdRG9efhg0=s64",
      "userId": "03031556768674861812"
     },
     "user_tz": 180
    },
    "id": "2052f561",
    "outputId": "95f70bb5-cf6d-4eff-b189-d147c0a585a3"
   },
   "outputs": [
    {
     "data": {
      "text/plain": [
       "phq_grp_final\n",
       "0.0              4013\n",
       "1.0               489\n",
       "2.0               297\n",
       "dtype: int64"
      ]
     },
     "execution_count": 20,
     "metadata": {},
     "output_type": "execute_result"
    }
   ],
   "source": [
    "# Agrupando phq_grp em 0 = Sem sintomas, 1 = Sintomas leves, 2 = Sintomas moderados a severos\n",
    "\n",
    "db_treated[\"phq_grp_final\"] = db_treated[\"phq_grp\"].replace([3, 4], 2)\n",
    "\n",
    "db_treated[[\"phq_grp_final\"]].value_counts(sort = False) # Avaliando frequencia"
   ]
  },
  {
   "cell_type": "code",
   "execution_count": 21,
   "id": "4f8f7579",
   "metadata": {
    "colab": {
     "base_uri": "https://localhost:8080/",
     "height": 270
    },
    "executionInfo": {
     "elapsed": 414,
     "status": "ok",
     "timestamp": 1644322930043,
     "user": {
      "displayName": "Brisa Gonçalves",
      "photoUrl": "https://lh3.googleusercontent.com/a-/AOh14GitzE3yBEnyqzopa88QrW2MbETwuEkAWSdRG9efhg0=s64",
      "userId": "03031556768674861812"
     },
     "user_tz": 180
    },
    "id": "4f8f7579",
    "outputId": "f74690e1-4b76-4223-ec98-2adb59d8ba6d"
   },
   "outputs": [
    {
     "data": {
      "text/html": [
       "<div>\n",
       "<style scoped>\n",
       "    .dataframe tbody tr th:only-of-type {\n",
       "        vertical-align: middle;\n",
       "    }\n",
       "\n",
       "    .dataframe tbody tr th {\n",
       "        vertical-align: top;\n",
       "    }\n",
       "\n",
       "    .dataframe thead th {\n",
       "        text-align: right;\n",
       "    }\n",
       "</style>\n",
       "<table border=\"1\" class=\"dataframe\">\n",
       "  <thead>\n",
       "    <tr style=\"text-align: right;\">\n",
       "      <th></th>\n",
       "      <th>seqn</th>\n",
       "      <th>dpq010</th>\n",
       "      <th>dpq020</th>\n",
       "      <th>dpq030</th>\n",
       "      <th>dpq040</th>\n",
       "      <th>dpq050</th>\n",
       "      <th>dpq060</th>\n",
       "      <th>dpq070</th>\n",
       "      <th>dpq080</th>\n",
       "      <th>dpq090</th>\n",
       "      <th>...</th>\n",
       "      <th>proteinas_vegetais</th>\n",
       "      <th>acido_graxo</th>\n",
       "      <th>sodio</th>\n",
       "      <th>graos_refinados</th>\n",
       "      <th>gordura_saturada</th>\n",
       "      <th>açucar_adicional</th>\n",
       "      <th>escore_total</th>\n",
       "      <th>phq9</th>\n",
       "      <th>phq_grp</th>\n",
       "      <th>phq_grp_final</th>\n",
       "    </tr>\n",
       "  </thead>\n",
       "  <tbody>\n",
       "    <tr>\n",
       "      <th>0</th>\n",
       "      <td>31130</td>\n",
       "      <td>NaN</td>\n",
       "      <td>NaN</td>\n",
       "      <td>NaN</td>\n",
       "      <td>NaN</td>\n",
       "      <td>NaN</td>\n",
       "      <td>NaN</td>\n",
       "      <td>NaN</td>\n",
       "      <td>NaN</td>\n",
       "      <td>NaN</td>\n",
       "      <td>...</td>\n",
       "      <td>NaN</td>\n",
       "      <td>NaN</td>\n",
       "      <td>NaN</td>\n",
       "      <td>NaN</td>\n",
       "      <td>NaN</td>\n",
       "      <td>NaN</td>\n",
       "      <td>NaN</td>\n",
       "      <td>NaN</td>\n",
       "      <td>NaN</td>\n",
       "      <td>NaN</td>\n",
       "    </tr>\n",
       "    <tr>\n",
       "      <th>1</th>\n",
       "      <td>31131</td>\n",
       "      <td>0.0</td>\n",
       "      <td>0.0</td>\n",
       "      <td>0.0</td>\n",
       "      <td>0.0</td>\n",
       "      <td>0.0</td>\n",
       "      <td>0.0</td>\n",
       "      <td>0.0</td>\n",
       "      <td>0.0</td>\n",
       "      <td>0.0</td>\n",
       "      <td>...</td>\n",
       "      <td>2.052399</td>\n",
       "      <td>0.684985</td>\n",
       "      <td>2.297100</td>\n",
       "      <td>9.512964</td>\n",
       "      <td>0.438428</td>\n",
       "      <td>3.919226</td>\n",
       "      <td>35.553899</td>\n",
       "      <td>0.0</td>\n",
       "      <td>0.0</td>\n",
       "      <td>0.0</td>\n",
       "    </tr>\n",
       "    <tr>\n",
       "      <th>2</th>\n",
       "      <td>31132</td>\n",
       "      <td>0.0</td>\n",
       "      <td>0.0</td>\n",
       "      <td>0.0</td>\n",
       "      <td>0.0</td>\n",
       "      <td>0.0</td>\n",
       "      <td>0.0</td>\n",
       "      <td>0.0</td>\n",
       "      <td>0.0</td>\n",
       "      <td>0.0</td>\n",
       "      <td>...</td>\n",
       "      <td>0.000000</td>\n",
       "      <td>2.050769</td>\n",
       "      <td>7.369489</td>\n",
       "      <td>8.887880</td>\n",
       "      <td>8.186877</td>\n",
       "      <td>9.099088</td>\n",
       "      <td>63.551696</td>\n",
       "      <td>0.0</td>\n",
       "      <td>0.0</td>\n",
       "      <td>0.0</td>\n",
       "    </tr>\n",
       "    <tr>\n",
       "      <th>3</th>\n",
       "      <td>31134</td>\n",
       "      <td>0.0</td>\n",
       "      <td>0.0</td>\n",
       "      <td>0.0</td>\n",
       "      <td>0.0</td>\n",
       "      <td>0.0</td>\n",
       "      <td>0.0</td>\n",
       "      <td>0.0</td>\n",
       "      <td>0.0</td>\n",
       "      <td>0.0</td>\n",
       "      <td>...</td>\n",
       "      <td>1.268648</td>\n",
       "      <td>2.958985</td>\n",
       "      <td>0.000000</td>\n",
       "      <td>5.627488</td>\n",
       "      <td>5.863078</td>\n",
       "      <td>5.878686</td>\n",
       "      <td>42.886826</td>\n",
       "      <td>0.0</td>\n",
       "      <td>0.0</td>\n",
       "      <td>0.0</td>\n",
       "    </tr>\n",
       "    <tr>\n",
       "      <th>4</th>\n",
       "      <td>31139</td>\n",
       "      <td>0.0</td>\n",
       "      <td>0.0</td>\n",
       "      <td>0.0</td>\n",
       "      <td>0.0</td>\n",
       "      <td>3.0</td>\n",
       "      <td>1.0</td>\n",
       "      <td>0.0</td>\n",
       "      <td>0.0</td>\n",
       "      <td>0.0</td>\n",
       "      <td>...</td>\n",
       "      <td>4.221442</td>\n",
       "      <td>10.000000</td>\n",
       "      <td>2.845774</td>\n",
       "      <td>0.000000</td>\n",
       "      <td>10.000000</td>\n",
       "      <td>9.658507</td>\n",
       "      <td>47.074393</td>\n",
       "      <td>4.0</td>\n",
       "      <td>0.0</td>\n",
       "      <td>0.0</td>\n",
       "    </tr>\n",
       "  </tbody>\n",
       "</table>\n",
       "<p>5 rows × 34 columns</p>\n",
       "</div>"
      ],
      "text/plain": [
       "    seqn  dpq010  dpq020  dpq030  dpq040  dpq050  dpq060  dpq070  dpq080  \\\n",
       "0  31130     NaN     NaN     NaN     NaN     NaN     NaN     NaN     NaN   \n",
       "1  31131     0.0     0.0     0.0     0.0     0.0     0.0     0.0     0.0   \n",
       "2  31132     0.0     0.0     0.0     0.0     0.0     0.0     0.0     0.0   \n",
       "3  31134     0.0     0.0     0.0     0.0     0.0     0.0     0.0     0.0   \n",
       "4  31139     0.0     0.0     0.0     0.0     3.0     1.0     0.0     0.0   \n",
       "\n",
       "   dpq090  ...  proteinas_vegetais  acido_graxo     sodio  graos_refinados  \\\n",
       "0     NaN  ...                 NaN          NaN       NaN              NaN   \n",
       "1     0.0  ...            2.052399     0.684985  2.297100         9.512964   \n",
       "2     0.0  ...            0.000000     2.050769  7.369489         8.887880   \n",
       "3     0.0  ...            1.268648     2.958985  0.000000         5.627488   \n",
       "4     0.0  ...            4.221442    10.000000  2.845774         0.000000   \n",
       "\n",
       "   gordura_saturada  açucar_adicional  escore_total  phq9  phq_grp  \\\n",
       "0               NaN               NaN           NaN   NaN      NaN   \n",
       "1          0.438428          3.919226     35.553899   0.0      0.0   \n",
       "2          8.186877          9.099088     63.551696   0.0      0.0   \n",
       "3          5.863078          5.878686     42.886826   0.0      0.0   \n",
       "4         10.000000          9.658507     47.074393   4.0      0.0   \n",
       "\n",
       "   phq_grp_final  \n",
       "0            NaN  \n",
       "1            0.0  \n",
       "2            0.0  \n",
       "3            0.0  \n",
       "4            0.0  \n",
       "\n",
       "[5 rows x 34 columns]"
      ]
     },
     "execution_count": 21,
     "metadata": {},
     "output_type": "execute_result"
    }
   ],
   "source": [
    "db_treated.head()"
   ]
  },
  {
   "cell_type": "markdown",
   "id": "3441d828",
   "metadata": {
    "id": "3441d828"
   },
   "source": [
    "### Observações:\n",
    "\n",
    "1. Para as etapas de análise exploratória e teste de hipótese, utilizaremos a variável phq_grp_final com 3 níveis de sintomas de depressão. \n",
    "\n",
    "2. Como o percentual de missing está abaixo de 10% para todas as variáveis, não faremos nenhum tratamento para os casos faltantes. "
   ]
  },
  {
   "cell_type": "markdown",
   "id": "a0909b0d",
   "metadata": {
    "id": "a0909b0d"
   },
   "source": [
    "## 2) EDA: Análise Univariada"
   ]
  },
  {
   "cell_type": "markdown",
   "id": "ECHehL7FFAaS",
   "metadata": {
    "id": "ECHehL7FFAaS"
   },
   "source": [
    "### 2.1) Medidas resumo das variáveis quantitativas:"
   ]
  },
  {
   "cell_type": "code",
   "execution_count": 25,
   "id": "c38e1e2e",
   "metadata": {
    "id": "c38e1e2e"
   },
   "outputs": [],
   "source": [
    "# Agrupando tipos de variáveis distintas\n",
    "\n",
    "var_quant = [\n",
    "    \"idade\", \n",
    "    \"renda_familiar_anual\", \n",
    "    \"aerobico_min\", \n",
    "    \"vegetais_total\",\n",
    "    \"verduras_verde_escuras_leguminosas\",\n",
    "    \"frutais_total\",\n",
    "    \"frutas_in_natura\",\n",
    "    \"graos_integrais\",\n",
    "    \"laticinios\",\n",
    "    \"proteinas_total\",\n",
    "    \"proteinas_vegetais\",\n",
    "    \"acido_graxo\",\n",
    "    \"sodio\",\n",
    "    \"graos_refinados\",\n",
    "    \"gordura_saturada\",\n",
    "    \"açucar_adicional\",\n",
    "    \"escore_total\"\n",
    "]\n",
    "\n",
    "var_quali = [\n",
    "    \"genero\",\n",
    "    \"raça_etnia\",\n",
    "    \"escolaridade\",\n",
    "    \"aderencia\",\n",
    "    \"phq_grp_final\"\n",
    "]\n",
    "\n",
    "var_health = [\n",
    "    \"aerobico_min\", \n",
    "    \"vegetais_total\",\n",
    "    \"verduras_verde_escuras_leguminosas\",\n",
    "    \"frutais_total\",\n",
    "    \"frutas_in_natura\",\n",
    "    \"graos_integrais\",\n",
    "    \"laticinios\",\n",
    "    \"proteinas_total\",\n",
    "    \"proteinas_vegetais\",\n",
    "    \"acido_graxo\",\n",
    "    \"sodio\",\n",
    "    \"graos_refinados\",\n",
    "    \"gordura_saturada\",\n",
    "    \"açucar_adicional\",\n",
    "    \"escore_total\"\n",
    "]"
   ]
  },
  {
   "cell_type": "code",
   "execution_count": 26,
   "id": "714b3c37",
   "metadata": {
    "colab": {
     "base_uri": "https://localhost:8080/",
     "height": 364
    },
    "executionInfo": {
     "elapsed": 551,
     "status": "ok",
     "timestamp": 1644322951646,
     "user": {
      "displayName": "Brisa Gonçalves",
      "photoUrl": "https://lh3.googleusercontent.com/a-/AOh14GitzE3yBEnyqzopa88QrW2MbETwuEkAWSdRG9efhg0=s64",
      "userId": "03031556768674861812"
     },
     "user_tz": 180
    },
    "id": "714b3c37",
    "outputId": "720f578c-1aac-4454-c105-4191e1064a86"
   },
   "outputs": [
    {
     "data": {
      "text/html": [
       "<div>\n",
       "<style scoped>\n",
       "    .dataframe tbody tr th:only-of-type {\n",
       "        vertical-align: middle;\n",
       "    }\n",
       "\n",
       "    .dataframe tbody tr th {\n",
       "        vertical-align: top;\n",
       "    }\n",
       "\n",
       "    .dataframe thead th {\n",
       "        text-align: right;\n",
       "    }\n",
       "</style>\n",
       "<table border=\"1\" class=\"dataframe\">\n",
       "  <thead>\n",
       "    <tr style=\"text-align: right;\">\n",
       "      <th></th>\n",
       "      <th>idade</th>\n",
       "      <th>renda_familiar_anual</th>\n",
       "      <th>aerobico_min</th>\n",
       "      <th>vegetais_total</th>\n",
       "      <th>verduras_verde_escuras_leguminosas</th>\n",
       "      <th>frutais_total</th>\n",
       "      <th>frutas_in_natura</th>\n",
       "      <th>graos_integrais</th>\n",
       "      <th>laticinios</th>\n",
       "      <th>proteinas_total</th>\n",
       "      <th>proteinas_vegetais</th>\n",
       "      <th>acido_graxo</th>\n",
       "      <th>sodio</th>\n",
       "      <th>graos_refinados</th>\n",
       "      <th>gordura_saturada</th>\n",
       "      <th>açucar_adicional</th>\n",
       "      <th>escore_total</th>\n",
       "    </tr>\n",
       "  </thead>\n",
       "  <tbody>\n",
       "    <tr>\n",
       "      <th>count</th>\n",
       "      <td>5334.00</td>\n",
       "      <td>5174.00</td>\n",
       "      <td>5334.00</td>\n",
       "      <td>5060.00</td>\n",
       "      <td>5060.00</td>\n",
       "      <td>5060.00</td>\n",
       "      <td>5060.00</td>\n",
       "      <td>5060.00</td>\n",
       "      <td>5060.00</td>\n",
       "      <td>5060.00</td>\n",
       "      <td>5060.00</td>\n",
       "      <td>5060.00</td>\n",
       "      <td>5060.00</td>\n",
       "      <td>5060.00</td>\n",
       "      <td>5060.00</td>\n",
       "      <td>5060.00</td>\n",
       "      <td>5060.00</td>\n",
       "    </tr>\n",
       "    <tr>\n",
       "      <th>mean</th>\n",
       "      <td>45.09</td>\n",
       "      <td>40787.68</td>\n",
       "      <td>471.77</td>\n",
       "      <td>3.20</td>\n",
       "      <td>1.81</td>\n",
       "      <td>2.49</td>\n",
       "      <td>2.36</td>\n",
       "      <td>1.76</td>\n",
       "      <td>3.76</td>\n",
       "      <td>4.43</td>\n",
       "      <td>2.59</td>\n",
       "      <td>4.71</td>\n",
       "      <td>4.76</td>\n",
       "      <td>5.80</td>\n",
       "      <td>6.07</td>\n",
       "      <td>6.22</td>\n",
       "      <td>49.97</td>\n",
       "    </tr>\n",
       "    <tr>\n",
       "      <th>std</th>\n",
       "      <td>20.15</td>\n",
       "      <td>24247.24</td>\n",
       "      <td>780.35</td>\n",
       "      <td>1.47</td>\n",
       "      <td>2.14</td>\n",
       "      <td>1.95</td>\n",
       "      <td>2.17</td>\n",
       "      <td>1.92</td>\n",
       "      <td>1.61</td>\n",
       "      <td>1.01</td>\n",
       "      <td>2.17</td>\n",
       "      <td>3.24</td>\n",
       "      <td>3.42</td>\n",
       "      <td>3.50</td>\n",
       "      <td>3.18</td>\n",
       "      <td>3.33</td>\n",
       "      <td>12.32</td>\n",
       "    </tr>\n",
       "    <tr>\n",
       "      <th>min</th>\n",
       "      <td>18.00</td>\n",
       "      <td>2499.50</td>\n",
       "      <td>0.00</td>\n",
       "      <td>0.00</td>\n",
       "      <td>0.00</td>\n",
       "      <td>0.00</td>\n",
       "      <td>0.00</td>\n",
       "      <td>0.00</td>\n",
       "      <td>0.00</td>\n",
       "      <td>0.00</td>\n",
       "      <td>0.00</td>\n",
       "      <td>0.00</td>\n",
       "      <td>0.00</td>\n",
       "      <td>0.00</td>\n",
       "      <td>0.00</td>\n",
       "      <td>0.00</td>\n",
       "      <td>16.06</td>\n",
       "    </tr>\n",
       "    <tr>\n",
       "      <th>25%</th>\n",
       "      <td>27.00</td>\n",
       "      <td>17499.50</td>\n",
       "      <td>35.00</td>\n",
       "      <td>2.06</td>\n",
       "      <td>0.00</td>\n",
       "      <td>0.45</td>\n",
       "      <td>0.00</td>\n",
       "      <td>0.00</td>\n",
       "      <td>2.59</td>\n",
       "      <td>4.17</td>\n",
       "      <td>0.00</td>\n",
       "      <td>2.02</td>\n",
       "      <td>1.59</td>\n",
       "      <td>2.93</td>\n",
       "      <td>3.70</td>\n",
       "      <td>3.72</td>\n",
       "      <td>41.03</td>\n",
       "    </tr>\n",
       "    <tr>\n",
       "      <th>50%</th>\n",
       "      <td>43.00</td>\n",
       "      <td>39999.50</td>\n",
       "      <td>210.00</td>\n",
       "      <td>3.22</td>\n",
       "      <td>0.06</td>\n",
       "      <td>2.32</td>\n",
       "      <td>2.08</td>\n",
       "      <td>1.03</td>\n",
       "      <td>4.94</td>\n",
       "      <td>5.00</td>\n",
       "      <td>2.59</td>\n",
       "      <td>4.43</td>\n",
       "      <td>4.83</td>\n",
       "      <td>6.23</td>\n",
       "      <td>6.41</td>\n",
       "      <td>6.86</td>\n",
       "      <td>49.51</td>\n",
       "    </tr>\n",
       "    <tr>\n",
       "      <th>75%</th>\n",
       "      <td>62.00</td>\n",
       "      <td>69999.50</td>\n",
       "      <td>568.93</td>\n",
       "      <td>4.83</td>\n",
       "      <td>4.50</td>\n",
       "      <td>4.94</td>\n",
       "      <td>5.00</td>\n",
       "      <td>3.41</td>\n",
       "      <td>5.00</td>\n",
       "      <td>5.00</td>\n",
       "      <td>5.00</td>\n",
       "      <td>7.27</td>\n",
       "      <td>7.65</td>\n",
       "      <td>9.25</td>\n",
       "      <td>9.00</td>\n",
       "      <td>9.45</td>\n",
       "      <td>58.17</td>\n",
       "    </tr>\n",
       "    <tr>\n",
       "      <th>max</th>\n",
       "      <td>85.00</td>\n",
       "      <td>75000.00</td>\n",
       "      <td>10777.83</td>\n",
       "      <td>5.00</td>\n",
       "      <td>5.00</td>\n",
       "      <td>5.00</td>\n",
       "      <td>5.00</td>\n",
       "      <td>5.00</td>\n",
       "      <td>5.00</td>\n",
       "      <td>5.00</td>\n",
       "      <td>5.00</td>\n",
       "      <td>10.00</td>\n",
       "      <td>10.00</td>\n",
       "      <td>10.00</td>\n",
       "      <td>10.00</td>\n",
       "      <td>10.00</td>\n",
       "      <td>89.53</td>\n",
       "    </tr>\n",
       "  </tbody>\n",
       "</table>\n",
       "</div>"
      ],
      "text/plain": [
       "         idade  renda_familiar_anual  aerobico_min  vegetais_total  \\\n",
       "count  5334.00               5174.00       5334.00         5060.00   \n",
       "mean     45.09              40787.68        471.77            3.20   \n",
       "std      20.15              24247.24        780.35            1.47   \n",
       "min      18.00               2499.50          0.00            0.00   \n",
       "25%      27.00              17499.50         35.00            2.06   \n",
       "50%      43.00              39999.50        210.00            3.22   \n",
       "75%      62.00              69999.50        568.93            4.83   \n",
       "max      85.00              75000.00      10777.83            5.00   \n",
       "\n",
       "       verduras_verde_escuras_leguminosas  frutais_total  frutas_in_natura  \\\n",
       "count                             5060.00        5060.00           5060.00   \n",
       "mean                                 1.81           2.49              2.36   \n",
       "std                                  2.14           1.95              2.17   \n",
       "min                                  0.00           0.00              0.00   \n",
       "25%                                  0.00           0.45              0.00   \n",
       "50%                                  0.06           2.32              2.08   \n",
       "75%                                  4.50           4.94              5.00   \n",
       "max                                  5.00           5.00              5.00   \n",
       "\n",
       "       graos_integrais  laticinios  proteinas_total  proteinas_vegetais  \\\n",
       "count          5060.00     5060.00          5060.00             5060.00   \n",
       "mean              1.76        3.76             4.43                2.59   \n",
       "std               1.92        1.61             1.01                2.17   \n",
       "min               0.00        0.00             0.00                0.00   \n",
       "25%               0.00        2.59             4.17                0.00   \n",
       "50%               1.03        4.94             5.00                2.59   \n",
       "75%               3.41        5.00             5.00                5.00   \n",
       "max               5.00        5.00             5.00                5.00   \n",
       "\n",
       "       acido_graxo    sodio  graos_refinados  gordura_saturada  \\\n",
       "count      5060.00  5060.00          5060.00           5060.00   \n",
       "mean          4.71     4.76             5.80              6.07   \n",
       "std           3.24     3.42             3.50              3.18   \n",
       "min           0.00     0.00             0.00              0.00   \n",
       "25%           2.02     1.59             2.93              3.70   \n",
       "50%           4.43     4.83             6.23              6.41   \n",
       "75%           7.27     7.65             9.25              9.00   \n",
       "max          10.00    10.00            10.00             10.00   \n",
       "\n",
       "       açucar_adicional  escore_total  \n",
       "count           5060.00       5060.00  \n",
       "mean               6.22         49.97  \n",
       "std                3.33         12.32  \n",
       "min                0.00         16.06  \n",
       "25%                3.72         41.03  \n",
       "50%                6.86         49.51  \n",
       "75%                9.45         58.17  \n",
       "max               10.00         89.53  "
      ]
     },
     "execution_count": 26,
     "metadata": {},
     "output_type": "execute_result"
    }
   ],
   "source": [
    "# Medidas estatisticas principais das variáveis quantitativas \n",
    "\n",
    "db_treated[var_quant].describe().round(2)"
   ]
  },
  {
   "cell_type": "code",
   "execution_count": 27,
   "id": "87f9e144",
   "metadata": {
    "colab": {
     "base_uri": "https://localhost:8080/"
    },
    "executionInfo": {
     "elapsed": 503,
     "status": "ok",
     "timestamp": 1644323734963,
     "user": {
      "displayName": "Brisa Gonçalves",
      "photoUrl": "https://lh3.googleusercontent.com/a-/AOh14GitzE3yBEnyqzopa88QrW2MbETwuEkAWSdRG9efhg0=s64",
      "userId": "03031556768674861812"
     },
     "user_tz": 180
    },
    "id": "87f9e144",
    "outputId": "5dd9ee99-f013-4c4a-ca1a-f8b449bb1ac0"
   },
   "outputs": [
    {
     "data": {
      "text/plain": [
       "genero  raça_etnia  escolaridade  aderencia  phq_grp_final\n",
       "1       3           5.0           3.0        0.0              171\n",
       "                    4.0           3.0        0.0              161\n",
       "2       3           5.0           3.0        0.0              153\n",
       "1       3           3.0           3.0        0.0              137\n",
       "2       3           4.0           1.0        0.0              130\n",
       "                    3.0           1.0        0.0              126\n",
       "                    4.0           3.0        0.0              121\n",
       "1       1           1.0           1.0        0.0              105\n",
       "2       3           3.0           3.0        0.0               95\n",
       "1       4           4.0           3.0        0.0               82\n",
       "dtype: int64"
      ]
     },
     "execution_count": 27,
     "metadata": {},
     "output_type": "execute_result"
    }
   ],
   "source": [
    "# Frequências da variaveis qualitativas\n",
    "\n",
    "db_treated[var_quali].value_counts().head(10)"
   ]
  },
  {
   "cell_type": "code",
   "execution_count": 28,
   "id": "fa5f6dc3",
   "metadata": {
    "colab": {
     "base_uri": "https://localhost:8080/",
     "height": 238
    },
    "executionInfo": {
     "elapsed": 648,
     "status": "ok",
     "timestamp": 1644324013148,
     "user": {
      "displayName": "Brisa Gonçalves",
      "photoUrl": "https://lh3.googleusercontent.com/a-/AOh14GitzE3yBEnyqzopa88QrW2MbETwuEkAWSdRG9efhg0=s64",
      "userId": "03031556768674861812"
     },
     "user_tz": 180
    },
    "id": "fa5f6dc3",
    "outputId": "5e9772c9-d753-4eba-8aa1-894dbbae8b38"
   },
   "outputs": [
    {
     "data": {
      "text/html": [
       "<div>\n",
       "<style scoped>\n",
       "    .dataframe tbody tr th:only-of-type {\n",
       "        vertical-align: middle;\n",
       "    }\n",
       "\n",
       "    .dataframe tbody tr th {\n",
       "        vertical-align: top;\n",
       "    }\n",
       "\n",
       "    .dataframe thead th {\n",
       "        text-align: right;\n",
       "    }\n",
       "</style>\n",
       "<table border=\"1\" class=\"dataframe\">\n",
       "  <thead>\n",
       "    <tr style=\"text-align: right;\">\n",
       "      <th></th>\n",
       "      <th>genero</th>\n",
       "      <th>raça_etnia</th>\n",
       "      <th>escolaridade</th>\n",
       "      <th>aderencia</th>\n",
       "      <th>phq_grp_final</th>\n",
       "    </tr>\n",
       "  </thead>\n",
       "  <tbody>\n",
       "    <tr>\n",
       "      <th>0.0</th>\n",
       "      <td>NaN</td>\n",
       "      <td>NaN</td>\n",
       "      <td>NaN</td>\n",
       "      <td>NaN</td>\n",
       "      <td>0.84</td>\n",
       "    </tr>\n",
       "    <tr>\n",
       "      <th>1.0</th>\n",
       "      <td>0.48</td>\n",
       "      <td>0.21</td>\n",
       "      <td>0.12</td>\n",
       "      <td>0.43</td>\n",
       "      <td>0.10</td>\n",
       "    </tr>\n",
       "    <tr>\n",
       "      <th>2.0</th>\n",
       "      <td>0.52</td>\n",
       "      <td>0.07</td>\n",
       "      <td>0.18</td>\n",
       "      <td>0.16</td>\n",
       "      <td>0.06</td>\n",
       "    </tr>\n",
       "    <tr>\n",
       "      <th>3.0</th>\n",
       "      <td>NaN</td>\n",
       "      <td>0.47</td>\n",
       "      <td>0.25</td>\n",
       "      <td>0.41</td>\n",
       "      <td>NaN</td>\n",
       "    </tr>\n",
       "    <tr>\n",
       "      <th>4.0</th>\n",
       "      <td>NaN</td>\n",
       "      <td>0.24</td>\n",
       "      <td>0.28</td>\n",
       "      <td>NaN</td>\n",
       "      <td>NaN</td>\n",
       "    </tr>\n",
       "    <tr>\n",
       "      <th>5.0</th>\n",
       "      <td>NaN</td>\n",
       "      <td>NaN</td>\n",
       "      <td>0.18</td>\n",
       "      <td>NaN</td>\n",
       "      <td>NaN</td>\n",
       "    </tr>\n",
       "  </tbody>\n",
       "</table>\n",
       "</div>"
      ],
      "text/plain": [
       "     genero  raça_etnia  escolaridade  aderencia  phq_grp_final\n",
       "0.0     NaN         NaN           NaN        NaN           0.84\n",
       "1.0    0.48        0.21          0.12       0.43           0.10\n",
       "2.0    0.52        0.07          0.18       0.16           0.06\n",
       "3.0     NaN        0.47          0.25       0.41            NaN\n",
       "4.0     NaN        0.24          0.28        NaN            NaN\n",
       "5.0     NaN         NaN          0.18        NaN            NaN"
      ]
     },
     "execution_count": 28,
     "metadata": {},
     "output_type": "execute_result"
    }
   ],
   "source": [
    "# Proporções dos dados \n",
    "# normalize =True -> Frequência relativa\n",
    "\n",
    "db_treated[var_quali].agg(pd.Series.value_counts, normalize=True).round(2)\n"
   ]
  },
  {
   "cell_type": "markdown",
   "id": "FxmV0FRbK7yI",
   "metadata": {
    "id": "FxmV0FRbK7yI"
   },
   "source": [
    "### 2.2) Análise das variáveis categóricas"
   ]
  },
  {
   "cell_type": "code",
   "execution_count": 29,
   "id": "8e9aa322",
   "metadata": {
    "id": "8e9aa322"
   },
   "outputs": [],
   "source": [
    "\n",
    "# Função para construir gráfico de barras\n",
    "\n",
    "def grafico_barras_prop(data, variable, values, label):\n",
    "    (data[[variable]]\n",
    "     .replace(values, label)\n",
    "     .value_counts(normalize=True, sort = False)\n",
    "     .rename(\"Proportion\")\n",
    "     .reset_index()\n",
    "     .pipe((sns.barplot, \"data\"), x=variable, y=\"Proportion\", order = label))\n",
    "    \n",
    "    plt.ylim(0,1)\n",
    "    plt.show()"
   ]
  },
  {
   "cell_type": "code",
   "execution_count": 30,
   "id": "db669621",
   "metadata": {
    "colab": {
     "base_uri": "https://localhost:8080/",
     "height": 283
    },
    "executionInfo": {
     "elapsed": 507,
     "status": "ok",
     "timestamp": 1644325149180,
     "user": {
      "displayName": "Brisa Gonçalves",
      "photoUrl": "https://lh3.googleusercontent.com/a-/AOh14GitzE3yBEnyqzopa88QrW2MbETwuEkAWSdRG9efhg0=s64",
      "userId": "03031556768674861812"
     },
     "user_tz": 180
    },
    "id": "db669621",
    "outputId": "0a369210-d617-491a-fb07-ef650fc8d262"
   },
   "outputs": [
    {
     "data": {
      "image/png": "[encoded data removed]",
      "text/plain": [
       "<Figure size 432x288 with 1 Axes>"
      ]
     },
     "metadata": {
      "needs_background": "light"
     },
     "output_type": "display_data"
    }
   ],
   "source": [
    "# Gênero \n",
    "\n",
    "grafico_barras_prop(db_treated, variable = \"genero\", values = [1,2], label = [\"Masculino\", \"Feminino\"])"
   ]
  },
  {
   "cell_type": "code",
   "execution_count": 35,
   "id": "39777dfd",
   "metadata": {
    "colab": {
     "base_uri": "https://localhost:8080/",
     "height": 284
    },
    "executionInfo": {
     "elapsed": 466,
     "status": "ok",
     "timestamp": 1644325145591,
     "user": {
      "displayName": "Brisa Gonçalves",
      "photoUrl": "https://lh3.googleusercontent.com/a-/AOh14GitzE3yBEnyqzopa88QrW2MbETwuEkAWSdRG9efhg0=s64",
      "userId": "03031556768674861812"
     },
     "user_tz": 180
    },
    "id": "39777dfd",
    "outputId": "a37e769c-0782-4f36-be18-f2c2d3ca88db"
   },
   "outputs": [
    {
     "data": {
      "image/png": "[encoded data removed]",
      "text/plain": [
       "<Figure size 432x288 with 1 Axes>"
      ]
     },
     "metadata": {
      "needs_background": "light"
     },
     "output_type": "display_data"
    }
   ],
   "source": [
    "# Raça ou Etnia\n",
    "\n",
    "# 1 Americano Mexicano- AM\n",
    "# 2 Outro Hispânico/Multiracial - Outro\n",
    "# 3 Branco não Hispânico - BnH\n",
    "# 4 Negro não Hispânico- NnH\n",
    "\n",
    "grafico_barras_prop(db_treated, \n",
    "                    variable = \"raça_etnia\", \n",
    "                    values = [1,2,3,4], \n",
    "                    label = [\"AM\", \"Outro\", \"BñH\", \"NñH\"])"
   ]
  },
  {
   "cell_type": "code",
   "execution_count": 32,
   "id": "a9a2d4c0",
   "metadata": {
    "colab": {
     "base_uri": "https://localhost:8080/",
     "height": 283
    },
    "executionInfo": {
     "elapsed": 437,
     "status": "ok",
     "timestamp": 1644325139361,
     "user": {
      "displayName": "Brisa Gonçalves",
      "photoUrl": "https://lh3.googleusercontent.com/a-/AOh14GitzE3yBEnyqzopa88QrW2MbETwuEkAWSdRG9efhg0=s64",
      "userId": "03031556768674861812"
     },
     "user_tz": 180
    },
    "id": "a9a2d4c0",
    "outputId": "ece961ab-b1b2-493f-d8fe-08aa437423e8"
   },
   "outputs": [
    {
     "data": {
      "image/png": "[encoded data removed]",
      "text/plain": [
       "<Figure size 432x288 with 1 Axes>"
      ]
     },
     "metadata": {
      "needs_background": "light"
     },
     "output_type": "display_data"
    }
   ],
   "source": [
    "# Escolaridade\n",
    "\n",
    "# < 9 ano -> até 9 ano\n",
    "# entre 9 e 12 ano\n",
    "# Ensino Médio -> EM\n",
    "# Superior Incompleto -> SI\n",
    "#Superior Completo -> SC\n",
    "\n",
    "grafico_barras_prop(db_treated, \n",
    "                    variable = \"escolaridade\", \n",
    "                    values = [1,2,3,4,5], \n",
    "                    label = [\"< 9 ano\", \"9-12 ano\", \"EM\", \"SI\", \"SC\"])"
   ]
  },
  {
   "cell_type": "code",
   "execution_count": 36,
   "id": "4b654001",
   "metadata": {
    "colab": {
     "base_uri": "https://localhost:8080/",
     "height": 283
    },
    "executionInfo": {
     "elapsed": 417,
     "status": "ok",
     "timestamp": 1644325132806,
     "user": {
      "displayName": "Brisa Gonçalves",
      "photoUrl": "https://lh3.googleusercontent.com/a-/AOh14GitzE3yBEnyqzopa88QrW2MbETwuEkAWSdRG9efhg0=s64",
      "userId": "03031556768674861812"
     },
     "user_tz": 180
    },
    "id": "4b654001",
    "outputId": "0b71ce1f-1d74-408e-a781-b0941625b93b"
   },
   "outputs": [
    {
     "data": {
      "image/png": "[encoded data removed]",
      "text/plain": [
       "<Figure size 432x288 with 1 Axes>"
      ]
     },
     "metadata": {
      "needs_background": "light"
     },
     "output_type": "display_data"
    }
   ],
   "source": [
    "# Índice de aderência ao programa de aeróbico\n",
    "\n",
    "grafico_barras_prop(db_treated, \n",
    "                    variable = \"aderencia\", \n",
    "                    values = [1,2,3], \n",
    "                    label = [\"Abaixo\", \"Adequado\", \"Acima\"])"
   ]
  },
  {
   "cell_type": "code",
   "execution_count": 37,
   "id": "f7e928a5",
   "metadata": {
    "colab": {
     "base_uri": "https://localhost:8080/",
     "height": 284
    },
    "executionInfo": {
     "elapsed": 523,
     "status": "ok",
     "timestamp": 1644325018425,
     "user": {
      "displayName": "Brisa Gonçalves",
      "photoUrl": "https://lh3.googleusercontent.com/a-/AOh14GitzE3yBEnyqzopa88QrW2MbETwuEkAWSdRG9efhg0=s64",
      "userId": "03031556768674861812"
     },
     "user_tz": 180
    },
    "id": "f7e928a5",
    "outputId": "465b5ec5-66c1-4880-f951-af7523d91a24"
   },
   "outputs": [
    {
     "data": {
      "image/png": "[encoded data removed]",
      "text/plain": [
       "<Figure size 432x288 with 1 Axes>"
      ]
     },
     "metadata": {
      "needs_background": "light"
     },
     "output_type": "display_data"
    }
   ],
   "source": [
    "# Sintomas de depressão\n",
    "\n",
    "grafico_barras_prop(db_treated, \n",
    "                    variable = \"phq_grp_final\", \n",
    "                    values = [0,1,2], \n",
    "                    label = [\"Sem sintomas\", \"Sintomas leves\", \"Sintomas mod-sev\"])"
   ]
  },
  {
   "cell_type": "code",
   "execution_count": 38,
   "id": "a070762b",
   "metadata": {
    "colab": {
     "base_uri": "https://localhost:8080/",
     "height": 1000
    },
    "executionInfo": {
     "elapsed": 1413,
     "status": "ok",
     "timestamp": 1644325126246,
     "user": {
      "displayName": "Brisa Gonçalves",
      "photoUrl": "https://lh3.googleusercontent.com/a-/AOh14GitzE3yBEnyqzopa88QrW2MbETwuEkAWSdRG9efhg0=s64",
      "userId": "03031556768674861812"
     },
     "user_tz": 180
    },
    "id": "a070762b",
    "outputId": "142951e2-6fe3-4de5-9188-0cd340840eef"
   },
   "outputs": [
    {
     "data": {
      "text/html": [
       "<div>\n",
       "<style scoped>\n",
       "    .dataframe tbody tr th:only-of-type {\n",
       "        vertical-align: middle;\n",
       "    }\n",
       "\n",
       "    .dataframe tbody tr th {\n",
       "        vertical-align: top;\n",
       "    }\n",
       "\n",
       "    .dataframe thead tr th {\n",
       "        text-align: left;\n",
       "    }\n",
       "\n",
       "    .dataframe thead tr:last-of-type th {\n",
       "        text-align: right;\n",
       "    }\n",
       "</style>\n",
       "<table border=\"1\" class=\"dataframe\">\n",
       "  <thead>\n",
       "    <tr>\n",
       "      <th></th>\n",
       "      <th colspan=\"8\" halign=\"left\">idade</th>\n",
       "    </tr>\n",
       "    <tr>\n",
       "      <th></th>\n",
       "      <th>count</th>\n",
       "      <th>mean</th>\n",
       "      <th>std</th>\n",
       "      <th>min</th>\n",
       "      <th>25%</th>\n",
       "      <th>50%</th>\n",
       "      <th>75%</th>\n",
       "      <th>max</th>\n",
       "    </tr>\n",
       "    <tr>\n",
       "      <th>phq_grp_final</th>\n",
       "      <th></th>\n",
       "      <th></th>\n",
       "      <th></th>\n",
       "      <th></th>\n",
       "      <th></th>\n",
       "      <th></th>\n",
       "      <th></th>\n",
       "      <th></th>\n",
       "    </tr>\n",
       "  </thead>\n",
       "  <tbody>\n",
       "    <tr>\n",
       "      <th>0.0</th>\n",
       "      <td>4013.0</td>\n",
       "      <td>44.94</td>\n",
       "      <td>19.99</td>\n",
       "      <td>18.0</td>\n",
       "      <td>27.0</td>\n",
       "      <td>42.0</td>\n",
       "      <td>62.0</td>\n",
       "      <td>85.0</td>\n",
       "    </tr>\n",
       "    <tr>\n",
       "      <th>1.0</th>\n",
       "      <td>489.0</td>\n",
       "      <td>43.70</td>\n",
       "      <td>19.67</td>\n",
       "      <td>18.0</td>\n",
       "      <td>26.0</td>\n",
       "      <td>41.0</td>\n",
       "      <td>59.0</td>\n",
       "      <td>85.0</td>\n",
       "    </tr>\n",
       "    <tr>\n",
       "      <th>2.0</th>\n",
       "      <td>297.0</td>\n",
       "      <td>44.18</td>\n",
       "      <td>17.56</td>\n",
       "      <td>18.0</td>\n",
       "      <td>29.0</td>\n",
       "      <td>45.0</td>\n",
       "      <td>56.0</td>\n",
       "      <td>85.0</td>\n",
       "    </tr>\n",
       "  </tbody>\n",
       "</table>\n",
       "</div>"
      ],
      "text/plain": [
       "                idade                                            \n",
       "                count   mean    std   min   25%   50%   75%   max\n",
       "phq_grp_final                                                    \n",
       "0.0            4013.0  44.94  19.99  18.0  27.0  42.0  62.0  85.0\n",
       "1.0             489.0  43.70  19.67  18.0  26.0  41.0  59.0  85.0\n",
       "2.0             297.0  44.18  17.56  18.0  29.0  45.0  56.0  85.0"
      ]
     },
     "metadata": {},
     "output_type": "display_data"
    },
    {
     "data": {
      "text/html": [
       "<div>\n",
       "<style scoped>\n",
       "    .dataframe tbody tr th:only-of-type {\n",
       "        vertical-align: middle;\n",
       "    }\n",
       "\n",
       "    .dataframe tbody tr th {\n",
       "        vertical-align: top;\n",
       "    }\n",
       "\n",
       "    .dataframe thead tr th {\n",
       "        text-align: left;\n",
       "    }\n",
       "\n",
       "    .dataframe thead tr:last-of-type th {\n",
       "        text-align: right;\n",
       "    }\n",
       "</style>\n",
       "<table border=\"1\" class=\"dataframe\">\n",
       "  <thead>\n",
       "    <tr>\n",
       "      <th></th>\n",
       "      <th colspan=\"8\" halign=\"left\">renda_familiar_anual</th>\n",
       "    </tr>\n",
       "    <tr>\n",
       "      <th></th>\n",
       "      <th>count</th>\n",
       "      <th>mean</th>\n",
       "      <th>std</th>\n",
       "      <th>min</th>\n",
       "      <th>25%</th>\n",
       "      <th>50%</th>\n",
       "      <th>75%</th>\n",
       "      <th>max</th>\n",
       "    </tr>\n",
       "    <tr>\n",
       "      <th>phq_grp_final</th>\n",
       "      <th></th>\n",
       "      <th></th>\n",
       "      <th></th>\n",
       "      <th></th>\n",
       "      <th></th>\n",
       "      <th></th>\n",
       "      <th></th>\n",
       "      <th></th>\n",
       "    </tr>\n",
       "  </thead>\n",
       "  <tbody>\n",
       "    <tr>\n",
       "      <th>0.0</th>\n",
       "      <td>3923.0</td>\n",
       "      <td>42618.15</td>\n",
       "      <td>24274.99</td>\n",
       "      <td>2499.5</td>\n",
       "      <td>22499.5</td>\n",
       "      <td>39999.5</td>\n",
       "      <td>69999.5</td>\n",
       "      <td>75000.0</td>\n",
       "    </tr>\n",
       "    <tr>\n",
       "      <th>1.0</th>\n",
       "      <td>466.0</td>\n",
       "      <td>37081.12</td>\n",
       "      <td>23423.22</td>\n",
       "      <td>2499.5</td>\n",
       "      <td>17499.5</td>\n",
       "      <td>29999.5</td>\n",
       "      <td>55000.0</td>\n",
       "      <td>75000.0</td>\n",
       "    </tr>\n",
       "    <tr>\n",
       "      <th>2.0</th>\n",
       "      <td>291.0</td>\n",
       "      <td>29080.31</td>\n",
       "      <td>22825.18</td>\n",
       "      <td>2499.5</td>\n",
       "      <td>12499.5</td>\n",
       "      <td>22499.5</td>\n",
       "      <td>39999.5</td>\n",
       "      <td>75000.0</td>\n",
       "    </tr>\n",
       "  </tbody>\n",
       "</table>\n",
       "</div>"
      ],
      "text/plain": [
       "              renda_familiar_anual                                       \\\n",
       "                             count      mean       std     min      25%   \n",
       "phq_grp_final                                                             \n",
       "0.0                         3923.0  42618.15  24274.99  2499.5  22499.5   \n",
       "1.0                          466.0  37081.12  23423.22  2499.5  17499.5   \n",
       "2.0                          291.0  29080.31  22825.18  2499.5  12499.5   \n",
       "\n",
       "                                          \n",
       "                   50%      75%      max  \n",
       "phq_grp_final                             \n",
       "0.0            39999.5  69999.5  75000.0  \n",
       "1.0            29999.5  55000.0  75000.0  \n",
       "2.0            22499.5  39999.5  75000.0  "
      ]
     },
     "metadata": {},
     "output_type": "display_data"
    },
    {
     "data": {
      "text/html": [
       "<div>\n",
       "<style scoped>\n",
       "    .dataframe tbody tr th:only-of-type {\n",
       "        vertical-align: middle;\n",
       "    }\n",
       "\n",
       "    .dataframe tbody tr th {\n",
       "        vertical-align: top;\n",
       "    }\n",
       "\n",
       "    .dataframe thead tr th {\n",
       "        text-align: left;\n",
       "    }\n",
       "\n",
       "    .dataframe thead tr:last-of-type th {\n",
       "        text-align: right;\n",
       "    }\n",
       "</style>\n",
       "<table border=\"1\" class=\"dataframe\">\n",
       "  <thead>\n",
       "    <tr>\n",
       "      <th></th>\n",
       "      <th colspan=\"8\" halign=\"left\">aerobico_min</th>\n",
       "    </tr>\n",
       "    <tr>\n",
       "      <th></th>\n",
       "      <th>count</th>\n",
       "      <th>mean</th>\n",
       "      <th>std</th>\n",
       "      <th>min</th>\n",
       "      <th>25%</th>\n",
       "      <th>50%</th>\n",
       "      <th>75%</th>\n",
       "      <th>max</th>\n",
       "    </tr>\n",
       "    <tr>\n",
       "      <th>phq_grp_final</th>\n",
       "      <th></th>\n",
       "      <th></th>\n",
       "      <th></th>\n",
       "      <th></th>\n",
       "      <th></th>\n",
       "      <th></th>\n",
       "      <th></th>\n",
       "      <th></th>\n",
       "    </tr>\n",
       "  </thead>\n",
       "  <tbody>\n",
       "    <tr>\n",
       "      <th>0.0</th>\n",
       "      <td>4013.0</td>\n",
       "      <td>500.90</td>\n",
       "      <td>795.56</td>\n",
       "      <td>0.0</td>\n",
       "      <td>55.43</td>\n",
       "      <td>235.57</td>\n",
       "      <td>618.94</td>\n",
       "      <td>10777.83</td>\n",
       "    </tr>\n",
       "    <tr>\n",
       "      <th>1.0</th>\n",
       "      <td>489.0</td>\n",
       "      <td>474.40</td>\n",
       "      <td>889.21</td>\n",
       "      <td>0.0</td>\n",
       "      <td>30.00</td>\n",
       "      <td>192.42</td>\n",
       "      <td>479.54</td>\n",
       "      <td>7302.54</td>\n",
       "    </tr>\n",
       "    <tr>\n",
       "      <th>2.0</th>\n",
       "      <td>297.0</td>\n",
       "      <td>294.08</td>\n",
       "      <td>612.61</td>\n",
       "      <td>0.0</td>\n",
       "      <td>0.00</td>\n",
       "      <td>90.07</td>\n",
       "      <td>323.33</td>\n",
       "      <td>5536.15</td>\n",
       "    </tr>\n",
       "  </tbody>\n",
       "</table>\n",
       "</div>"
      ],
      "text/plain": [
       "              aerobico_min                                              \\\n",
       "                     count    mean     std  min    25%     50%     75%   \n",
       "phq_grp_final                                                            \n",
       "0.0                 4013.0  500.90  795.56  0.0  55.43  235.57  618.94   \n",
       "1.0                  489.0  474.40  889.21  0.0  30.00  192.42  479.54   \n",
       "2.0                  297.0  294.08  612.61  0.0   0.00   90.07  323.33   \n",
       "\n",
       "                         \n",
       "                    max  \n",
       "phq_grp_final            \n",
       "0.0            10777.83  \n",
       "1.0             7302.54  \n",
       "2.0             5536.15  "
      ]
     },
     "metadata": {},
     "output_type": "display_data"
    },
    {
     "data": {
      "text/html": [
       "<div>\n",
       "<style scoped>\n",
       "    .dataframe tbody tr th:only-of-type {\n",
       "        vertical-align: middle;\n",
       "    }\n",
       "\n",
       "    .dataframe tbody tr th {\n",
       "        vertical-align: top;\n",
       "    }\n",
       "\n",
       "    .dataframe thead tr th {\n",
       "        text-align: left;\n",
       "    }\n",
       "\n",
       "    .dataframe thead tr:last-of-type th {\n",
       "        text-align: right;\n",
       "    }\n",
       "</style>\n",
       "<table border=\"1\" class=\"dataframe\">\n",
       "  <thead>\n",
       "    <tr>\n",
       "      <th></th>\n",
       "      <th colspan=\"8\" halign=\"left\">vegetais_total</th>\n",
       "    </tr>\n",
       "    <tr>\n",
       "      <th></th>\n",
       "      <th>count</th>\n",
       "      <th>mean</th>\n",
       "      <th>std</th>\n",
       "      <th>min</th>\n",
       "      <th>25%</th>\n",
       "      <th>50%</th>\n",
       "      <th>75%</th>\n",
       "      <th>max</th>\n",
       "    </tr>\n",
       "    <tr>\n",
       "      <th>phq_grp_final</th>\n",
       "      <th></th>\n",
       "      <th></th>\n",
       "      <th></th>\n",
       "      <th></th>\n",
       "      <th></th>\n",
       "      <th></th>\n",
       "      <th></th>\n",
       "      <th></th>\n",
       "    </tr>\n",
       "  </thead>\n",
       "  <tbody>\n",
       "    <tr>\n",
       "      <th>0.0</th>\n",
       "      <td>3942.0</td>\n",
       "      <td>3.23</td>\n",
       "      <td>1.45</td>\n",
       "      <td>0.0</td>\n",
       "      <td>2.09</td>\n",
       "      <td>3.24</td>\n",
       "      <td>4.84</td>\n",
       "      <td>5.0</td>\n",
       "    </tr>\n",
       "    <tr>\n",
       "      <th>1.0</th>\n",
       "      <td>474.0</td>\n",
       "      <td>3.11</td>\n",
       "      <td>1.53</td>\n",
       "      <td>0.0</td>\n",
       "      <td>1.93</td>\n",
       "      <td>3.15</td>\n",
       "      <td>4.76</td>\n",
       "      <td>5.0</td>\n",
       "    </tr>\n",
       "    <tr>\n",
       "      <th>2.0</th>\n",
       "      <td>288.0</td>\n",
       "      <td>3.05</td>\n",
       "      <td>1.49</td>\n",
       "      <td>0.0</td>\n",
       "      <td>1.92</td>\n",
       "      <td>3.08</td>\n",
       "      <td>4.36</td>\n",
       "      <td>5.0</td>\n",
       "    </tr>\n",
       "  </tbody>\n",
       "</table>\n",
       "</div>"
      ],
      "text/plain": [
       "              vegetais_total                                        \n",
       "                       count  mean   std  min   25%   50%   75%  max\n",
       "phq_grp_final                                                       \n",
       "0.0                   3942.0  3.23  1.45  0.0  2.09  3.24  4.84  5.0\n",
       "1.0                    474.0  3.11  1.53  0.0  1.93  3.15  4.76  5.0\n",
       "2.0                    288.0  3.05  1.49  0.0  1.92  3.08  4.36  5.0"
      ]
     },
     "metadata": {},
     "output_type": "display_data"
    },
    {
     "data": {
      "text/html": [
       "<div>\n",
       "<style scoped>\n",
       "    .dataframe tbody tr th:only-of-type {\n",
       "        vertical-align: middle;\n",
       "    }\n",
       "\n",
       "    .dataframe tbody tr th {\n",
       "        vertical-align: top;\n",
       "    }\n",
       "\n",
       "    .dataframe thead tr th {\n",
       "        text-align: left;\n",
       "    }\n",
       "\n",
       "    .dataframe thead tr:last-of-type th {\n",
       "        text-align: right;\n",
       "    }\n",
       "</style>\n",
       "<table border=\"1\" class=\"dataframe\">\n",
       "  <thead>\n",
       "    <tr>\n",
       "      <th></th>\n",
       "      <th colspan=\"8\" halign=\"left\">verduras_verde_escuras_leguminosas</th>\n",
       "    </tr>\n",
       "    <tr>\n",
       "      <th></th>\n",
       "      <th>count</th>\n",
       "      <th>mean</th>\n",
       "      <th>std</th>\n",
       "      <th>min</th>\n",
       "      <th>25%</th>\n",
       "      <th>50%</th>\n",
       "      <th>75%</th>\n",
       "      <th>max</th>\n",
       "    </tr>\n",
       "    <tr>\n",
       "      <th>phq_grp_final</th>\n",
       "      <th></th>\n",
       "      <th></th>\n",
       "      <th></th>\n",
       "      <th></th>\n",
       "      <th></th>\n",
       "      <th></th>\n",
       "      <th></th>\n",
       "      <th></th>\n",
       "    </tr>\n",
       "  </thead>\n",
       "  <tbody>\n",
       "    <tr>\n",
       "      <th>0.0</th>\n",
       "      <td>3942.0</td>\n",
       "      <td>1.82</td>\n",
       "      <td>2.14</td>\n",
       "      <td>0.0</td>\n",
       "      <td>0.0</td>\n",
       "      <td>0.14</td>\n",
       "      <td>4.49</td>\n",
       "      <td>5.0</td>\n",
       "    </tr>\n",
       "    <tr>\n",
       "      <th>1.0</th>\n",
       "      <td>474.0</td>\n",
       "      <td>1.77</td>\n",
       "      <td>2.12</td>\n",
       "      <td>0.0</td>\n",
       "      <td>0.0</td>\n",
       "      <td>0.11</td>\n",
       "      <td>4.21</td>\n",
       "      <td>5.0</td>\n",
       "    </tr>\n",
       "    <tr>\n",
       "      <th>2.0</th>\n",
       "      <td>288.0</td>\n",
       "      <td>1.55</td>\n",
       "      <td>2.07</td>\n",
       "      <td>0.0</td>\n",
       "      <td>0.0</td>\n",
       "      <td>0.00</td>\n",
       "      <td>3.61</td>\n",
       "      <td>5.0</td>\n",
       "    </tr>\n",
       "  </tbody>\n",
       "</table>\n",
       "</div>"
      ],
      "text/plain": [
       "              verduras_verde_escuras_leguminosas                              \\\n",
       "                                           count  mean   std  min  25%   50%   \n",
       "phq_grp_final                                                                  \n",
       "0.0                                       3942.0  1.82  2.14  0.0  0.0  0.14   \n",
       "1.0                                        474.0  1.77  2.12  0.0  0.0  0.11   \n",
       "2.0                                        288.0  1.55  2.07  0.0  0.0  0.00   \n",
       "\n",
       "                          \n",
       "                75%  max  \n",
       "phq_grp_final             \n",
       "0.0            4.49  5.0  \n",
       "1.0            4.21  5.0  \n",
       "2.0            3.61  5.0  "
      ]
     },
     "metadata": {},
     "output_type": "display_data"
    },
    {
     "data": {
      "text/html": [
       "<div>\n",
       "<style scoped>\n",
       "    .dataframe tbody tr th:only-of-type {\n",
       "        vertical-align: middle;\n",
       "    }\n",
       "\n",
       "    .dataframe tbody tr th {\n",
       "        vertical-align: top;\n",
       "    }\n",
       "\n",
       "    .dataframe thead tr th {\n",
       "        text-align: left;\n",
       "    }\n",
       "\n",
       "    .dataframe thead tr:last-of-type th {\n",
       "        text-align: right;\n",
       "    }\n",
       "</style>\n",
       "<table border=\"1\" class=\"dataframe\">\n",
       "  <thead>\n",
       "    <tr>\n",
       "      <th></th>\n",
       "      <th colspan=\"8\" halign=\"left\">frutais_total</th>\n",
       "    </tr>\n",
       "    <tr>\n",
       "      <th></th>\n",
       "      <th>count</th>\n",
       "      <th>mean</th>\n",
       "      <th>std</th>\n",
       "      <th>min</th>\n",
       "      <th>25%</th>\n",
       "      <th>50%</th>\n",
       "      <th>75%</th>\n",
       "      <th>max</th>\n",
       "    </tr>\n",
       "    <tr>\n",
       "      <th>phq_grp_final</th>\n",
       "      <th></th>\n",
       "      <th></th>\n",
       "      <th></th>\n",
       "      <th></th>\n",
       "      <th></th>\n",
       "      <th></th>\n",
       "      <th></th>\n",
       "      <th></th>\n",
       "    </tr>\n",
       "  </thead>\n",
       "  <tbody>\n",
       "    <tr>\n",
       "      <th>0.0</th>\n",
       "      <td>3942.0</td>\n",
       "      <td>2.53</td>\n",
       "      <td>1.95</td>\n",
       "      <td>0.0</td>\n",
       "      <td>0.47</td>\n",
       "      <td>2.39</td>\n",
       "      <td>5.00</td>\n",
       "      <td>5.0</td>\n",
       "    </tr>\n",
       "    <tr>\n",
       "      <th>1.0</th>\n",
       "      <td>474.0</td>\n",
       "      <td>2.31</td>\n",
       "      <td>1.90</td>\n",
       "      <td>0.0</td>\n",
       "      <td>0.41</td>\n",
       "      <td>2.00</td>\n",
       "      <td>4.36</td>\n",
       "      <td>5.0</td>\n",
       "    </tr>\n",
       "    <tr>\n",
       "      <th>2.0</th>\n",
       "      <td>288.0</td>\n",
       "      <td>2.23</td>\n",
       "      <td>1.97</td>\n",
       "      <td>0.0</td>\n",
       "      <td>0.08</td>\n",
       "      <td>1.96</td>\n",
       "      <td>4.32</td>\n",
       "      <td>5.0</td>\n",
       "    </tr>\n",
       "  </tbody>\n",
       "</table>\n",
       "</div>"
      ],
      "text/plain": [
       "              frutais_total                                        \n",
       "                      count  mean   std  min   25%   50%   75%  max\n",
       "phq_grp_final                                                      \n",
       "0.0                  3942.0  2.53  1.95  0.0  0.47  2.39  5.00  5.0\n",
       "1.0                   474.0  2.31  1.90  0.0  0.41  2.00  4.36  5.0\n",
       "2.0                   288.0  2.23  1.97  0.0  0.08  1.96  4.32  5.0"
      ]
     },
     "metadata": {},
     "output_type": "display_data"
    },
    {
     "data": {
      "text/html": [
       "<div>\n",
       "<style scoped>\n",
       "    .dataframe tbody tr th:only-of-type {\n",
       "        vertical-align: middle;\n",
       "    }\n",
       "\n",
       "    .dataframe tbody tr th {\n",
       "        vertical-align: top;\n",
       "    }\n",
       "\n",
       "    .dataframe thead tr th {\n",
       "        text-align: left;\n",
       "    }\n",
       "\n",
       "    .dataframe thead tr:last-of-type th {\n",
       "        text-align: right;\n",
       "    }\n",
       "</style>\n",
       "<table border=\"1\" class=\"dataframe\">\n",
       "  <thead>\n",
       "    <tr>\n",
       "      <th></th>\n",
       "      <th colspan=\"8\" halign=\"left\">frutas_in_natura</th>\n",
       "    </tr>\n",
       "    <tr>\n",
       "      <th></th>\n",
       "      <th>count</th>\n",
       "      <th>mean</th>\n",
       "      <th>std</th>\n",
       "      <th>min</th>\n",
       "      <th>25%</th>\n",
       "      <th>50%</th>\n",
       "      <th>75%</th>\n",
       "      <th>max</th>\n",
       "    </tr>\n",
       "    <tr>\n",
       "      <th>phq_grp_final</th>\n",
       "      <th></th>\n",
       "      <th></th>\n",
       "      <th></th>\n",
       "      <th></th>\n",
       "      <th></th>\n",
       "      <th></th>\n",
       "      <th></th>\n",
       "      <th></th>\n",
       "    </tr>\n",
       "  </thead>\n",
       "  <tbody>\n",
       "    <tr>\n",
       "      <th>0.0</th>\n",
       "      <td>3942.0</td>\n",
       "      <td>2.40</td>\n",
       "      <td>2.17</td>\n",
       "      <td>0.0</td>\n",
       "      <td>0.0</td>\n",
       "      <td>2.18</td>\n",
       "      <td>5.00</td>\n",
       "      <td>5.0</td>\n",
       "    </tr>\n",
       "    <tr>\n",
       "      <th>1.0</th>\n",
       "      <td>474.0</td>\n",
       "      <td>2.19</td>\n",
       "      <td>2.16</td>\n",
       "      <td>0.0</td>\n",
       "      <td>0.0</td>\n",
       "      <td>1.36</td>\n",
       "      <td>5.00</td>\n",
       "      <td>5.0</td>\n",
       "    </tr>\n",
       "    <tr>\n",
       "      <th>2.0</th>\n",
       "      <td>288.0</td>\n",
       "      <td>2.05</td>\n",
       "      <td>2.12</td>\n",
       "      <td>0.0</td>\n",
       "      <td>0.0</td>\n",
       "      <td>1.18</td>\n",
       "      <td>4.89</td>\n",
       "      <td>5.0</td>\n",
       "    </tr>\n",
       "  </tbody>\n",
       "</table>\n",
       "</div>"
      ],
      "text/plain": [
       "              frutas_in_natura                                       \n",
       "                         count  mean   std  min  25%   50%   75%  max\n",
       "phq_grp_final                                                        \n",
       "0.0                     3942.0  2.40  2.17  0.0  0.0  2.18  5.00  5.0\n",
       "1.0                      474.0  2.19  2.16  0.0  0.0  1.36  5.00  5.0\n",
       "2.0                      288.0  2.05  2.12  0.0  0.0  1.18  4.89  5.0"
      ]
     },
     "metadata": {},
     "output_type": "display_data"
    },
    {
     "data": {
      "text/html": [
       "<div>\n",
       "<style scoped>\n",
       "    .dataframe tbody tr th:only-of-type {\n",
       "        vertical-align: middle;\n",
       "    }\n",
       "\n",
       "    .dataframe tbody tr th {\n",
       "        vertical-align: top;\n",
       "    }\n",
       "\n",
       "    .dataframe thead tr th {\n",
       "        text-align: left;\n",
       "    }\n",
       "\n",
       "    .dataframe thead tr:last-of-type th {\n",
       "        text-align: right;\n",
       "    }\n",
       "</style>\n",
       "<table border=\"1\" class=\"dataframe\">\n",
       "  <thead>\n",
       "    <tr>\n",
       "      <th></th>\n",
       "      <th colspan=\"8\" halign=\"left\">graos_integrais</th>\n",
       "    </tr>\n",
       "    <tr>\n",
       "      <th></th>\n",
       "      <th>count</th>\n",
       "      <th>mean</th>\n",
       "      <th>std</th>\n",
       "      <th>min</th>\n",
       "      <th>25%</th>\n",
       "      <th>50%</th>\n",
       "      <th>75%</th>\n",
       "      <th>max</th>\n",
       "    </tr>\n",
       "    <tr>\n",
       "      <th>phq_grp_final</th>\n",
       "      <th></th>\n",
       "      <th></th>\n",
       "      <th></th>\n",
       "      <th></th>\n",
       "      <th></th>\n",
       "      <th></th>\n",
       "      <th></th>\n",
       "      <th></th>\n",
       "    </tr>\n",
       "  </thead>\n",
       "  <tbody>\n",
       "    <tr>\n",
       "      <th>0.0</th>\n",
       "      <td>3942.0</td>\n",
       "      <td>1.80</td>\n",
       "      <td>1.93</td>\n",
       "      <td>0.0</td>\n",
       "      <td>0.0</td>\n",
       "      <td>1.06</td>\n",
       "      <td>3.52</td>\n",
       "      <td>5.0</td>\n",
       "    </tr>\n",
       "    <tr>\n",
       "      <th>1.0</th>\n",
       "      <td>474.0</td>\n",
       "      <td>1.66</td>\n",
       "      <td>1.82</td>\n",
       "      <td>0.0</td>\n",
       "      <td>0.0</td>\n",
       "      <td>1.04</td>\n",
       "      <td>3.00</td>\n",
       "      <td>5.0</td>\n",
       "    </tr>\n",
       "    <tr>\n",
       "      <th>2.0</th>\n",
       "      <td>288.0</td>\n",
       "      <td>1.47</td>\n",
       "      <td>1.81</td>\n",
       "      <td>0.0</td>\n",
       "      <td>0.0</td>\n",
       "      <td>0.40</td>\n",
       "      <td>2.91</td>\n",
       "      <td>5.0</td>\n",
       "    </tr>\n",
       "  </tbody>\n",
       "</table>\n",
       "</div>"
      ],
      "text/plain": [
       "              graos_integrais                                       \n",
       "                        count  mean   std  min  25%   50%   75%  max\n",
       "phq_grp_final                                                       \n",
       "0.0                    3942.0  1.80  1.93  0.0  0.0  1.06  3.52  5.0\n",
       "1.0                     474.0  1.66  1.82  0.0  0.0  1.04  3.00  5.0\n",
       "2.0                     288.0  1.47  1.81  0.0  0.0  0.40  2.91  5.0"
      ]
     },
     "metadata": {},
     "output_type": "display_data"
    },
    {
     "data": {
      "text/html": [
       "<div>\n",
       "<style scoped>\n",
       "    .dataframe tbody tr th:only-of-type {\n",
       "        vertical-align: middle;\n",
       "    }\n",
       "\n",
       "    .dataframe tbody tr th {\n",
       "        vertical-align: top;\n",
       "    }\n",
       "\n",
       "    .dataframe thead tr th {\n",
       "        text-align: left;\n",
       "    }\n",
       "\n",
       "    .dataframe thead tr:last-of-type th {\n",
       "        text-align: right;\n",
       "    }\n",
       "</style>\n",
       "<table border=\"1\" class=\"dataframe\">\n",
       "  <thead>\n",
       "    <tr>\n",
       "      <th></th>\n",
       "      <th colspan=\"8\" halign=\"left\">laticinios</th>\n",
       "    </tr>\n",
       "    <tr>\n",
       "      <th></th>\n",
       "      <th>count</th>\n",
       "      <th>mean</th>\n",
       "      <th>std</th>\n",
       "      <th>min</th>\n",
       "      <th>25%</th>\n",
       "      <th>50%</th>\n",
       "      <th>75%</th>\n",
       "      <th>max</th>\n",
       "    </tr>\n",
       "    <tr>\n",
       "      <th>phq_grp_final</th>\n",
       "      <th></th>\n",
       "      <th></th>\n",
       "      <th></th>\n",
       "      <th></th>\n",
       "      <th></th>\n",
       "      <th></th>\n",
       "      <th></th>\n",
       "      <th></th>\n",
       "    </tr>\n",
       "  </thead>\n",
       "  <tbody>\n",
       "    <tr>\n",
       "      <th>0.0</th>\n",
       "      <td>3942.0</td>\n",
       "      <td>3.78</td>\n",
       "      <td>1.59</td>\n",
       "      <td>0.0</td>\n",
       "      <td>2.64</td>\n",
       "      <td>4.98</td>\n",
       "      <td>5.0</td>\n",
       "      <td>5.0</td>\n",
       "    </tr>\n",
       "    <tr>\n",
       "      <th>1.0</th>\n",
       "      <td>474.0</td>\n",
       "      <td>3.75</td>\n",
       "      <td>1.63</td>\n",
       "      <td>0.0</td>\n",
       "      <td>2.65</td>\n",
       "      <td>4.95</td>\n",
       "      <td>5.0</td>\n",
       "      <td>5.0</td>\n",
       "    </tr>\n",
       "    <tr>\n",
       "      <th>2.0</th>\n",
       "      <td>288.0</td>\n",
       "      <td>3.71</td>\n",
       "      <td>1.60</td>\n",
       "      <td>0.0</td>\n",
       "      <td>2.54</td>\n",
       "      <td>4.66</td>\n",
       "      <td>5.0</td>\n",
       "      <td>5.0</td>\n",
       "    </tr>\n",
       "  </tbody>\n",
       "</table>\n",
       "</div>"
      ],
      "text/plain": [
       "              laticinios                                       \n",
       "                   count  mean   std  min   25%   50%  75%  max\n",
       "phq_grp_final                                                  \n",
       "0.0               3942.0  3.78  1.59  0.0  2.64  4.98  5.0  5.0\n",
       "1.0                474.0  3.75  1.63  0.0  2.65  4.95  5.0  5.0\n",
       "2.0                288.0  3.71  1.60  0.0  2.54  4.66  5.0  5.0"
      ]
     },
     "metadata": {},
     "output_type": "display_data"
    },
    {
     "data": {
      "text/html": [
       "<div>\n",
       "<style scoped>\n",
       "    .dataframe tbody tr th:only-of-type {\n",
       "        vertical-align: middle;\n",
       "    }\n",
       "\n",
       "    .dataframe tbody tr th {\n",
       "        vertical-align: top;\n",
       "    }\n",
       "\n",
       "    .dataframe thead tr th {\n",
       "        text-align: left;\n",
       "    }\n",
       "\n",
       "    .dataframe thead tr:last-of-type th {\n",
       "        text-align: right;\n",
       "    }\n",
       "</style>\n",
       "<table border=\"1\" class=\"dataframe\">\n",
       "  <thead>\n",
       "    <tr>\n",
       "      <th></th>\n",
       "      <th colspan=\"8\" halign=\"left\">proteinas_total</th>\n",
       "    </tr>\n",
       "    <tr>\n",
       "      <th></th>\n",
       "      <th>count</th>\n",
       "      <th>mean</th>\n",
       "      <th>std</th>\n",
       "      <th>min</th>\n",
       "      <th>25%</th>\n",
       "      <th>50%</th>\n",
       "      <th>75%</th>\n",
       "      <th>max</th>\n",
       "    </tr>\n",
       "    <tr>\n",
       "      <th>phq_grp_final</th>\n",
       "      <th></th>\n",
       "      <th></th>\n",
       "      <th></th>\n",
       "      <th></th>\n",
       "      <th></th>\n",
       "      <th></th>\n",
       "      <th></th>\n",
       "      <th></th>\n",
       "    </tr>\n",
       "  </thead>\n",
       "  <tbody>\n",
       "    <tr>\n",
       "      <th>0.0</th>\n",
       "      <td>3942.0</td>\n",
       "      <td>4.45</td>\n",
       "      <td>0.99</td>\n",
       "      <td>0.0</td>\n",
       "      <td>4.21</td>\n",
       "      <td>5.0</td>\n",
       "      <td>5.0</td>\n",
       "      <td>5.0</td>\n",
       "    </tr>\n",
       "    <tr>\n",
       "      <th>1.0</th>\n",
       "      <td>474.0</td>\n",
       "      <td>4.35</td>\n",
       "      <td>1.08</td>\n",
       "      <td>0.0</td>\n",
       "      <td>3.98</td>\n",
       "      <td>5.0</td>\n",
       "      <td>5.0</td>\n",
       "      <td>5.0</td>\n",
       "    </tr>\n",
       "    <tr>\n",
       "      <th>2.0</th>\n",
       "      <td>288.0</td>\n",
       "      <td>4.35</td>\n",
       "      <td>1.12</td>\n",
       "      <td>0.0</td>\n",
       "      <td>4.00</td>\n",
       "      <td>5.0</td>\n",
       "      <td>5.0</td>\n",
       "      <td>5.0</td>\n",
       "    </tr>\n",
       "  </tbody>\n",
       "</table>\n",
       "</div>"
      ],
      "text/plain": [
       "              proteinas_total                                      \n",
       "                        count  mean   std  min   25%  50%  75%  max\n",
       "phq_grp_final                                                      \n",
       "0.0                    3942.0  4.45  0.99  0.0  4.21  5.0  5.0  5.0\n",
       "1.0                     474.0  4.35  1.08  0.0  3.98  5.0  5.0  5.0\n",
       "2.0                     288.0  4.35  1.12  0.0  4.00  5.0  5.0  5.0"
      ]
     },
     "metadata": {},
     "output_type": "display_data"
    },
    {
     "data": {
      "text/html": [
       "<div>\n",
       "<style scoped>\n",
       "    .dataframe tbody tr th:only-of-type {\n",
       "        vertical-align: middle;\n",
       "    }\n",
       "\n",
       "    .dataframe tbody tr th {\n",
       "        vertical-align: top;\n",
       "    }\n",
       "\n",
       "    .dataframe thead tr th {\n",
       "        text-align: left;\n",
       "    }\n",
       "\n",
       "    .dataframe thead tr:last-of-type th {\n",
       "        text-align: right;\n",
       "    }\n",
       "</style>\n",
       "<table border=\"1\" class=\"dataframe\">\n",
       "  <thead>\n",
       "    <tr>\n",
       "      <th></th>\n",
       "      <th colspan=\"8\" halign=\"left\">proteinas_vegetais</th>\n",
       "    </tr>\n",
       "    <tr>\n",
       "      <th></th>\n",
       "      <th>count</th>\n",
       "      <th>mean</th>\n",
       "      <th>std</th>\n",
       "      <th>min</th>\n",
       "      <th>25%</th>\n",
       "      <th>50%</th>\n",
       "      <th>75%</th>\n",
       "      <th>max</th>\n",
       "    </tr>\n",
       "    <tr>\n",
       "      <th>phq_grp_final</th>\n",
       "      <th></th>\n",
       "      <th></th>\n",
       "      <th></th>\n",
       "      <th></th>\n",
       "      <th></th>\n",
       "      <th></th>\n",
       "      <th></th>\n",
       "      <th></th>\n",
       "    </tr>\n",
       "  </thead>\n",
       "  <tbody>\n",
       "    <tr>\n",
       "      <th>0.0</th>\n",
       "      <td>3942.0</td>\n",
       "      <td>2.61</td>\n",
       "      <td>2.17</td>\n",
       "      <td>0.0</td>\n",
       "      <td>0.03</td>\n",
       "      <td>2.63</td>\n",
       "      <td>5.0</td>\n",
       "      <td>5.0</td>\n",
       "    </tr>\n",
       "    <tr>\n",
       "      <th>1.0</th>\n",
       "      <td>474.0</td>\n",
       "      <td>2.52</td>\n",
       "      <td>2.14</td>\n",
       "      <td>0.0</td>\n",
       "      <td>0.00</td>\n",
       "      <td>2.44</td>\n",
       "      <td>5.0</td>\n",
       "      <td>5.0</td>\n",
       "    </tr>\n",
       "    <tr>\n",
       "      <th>2.0</th>\n",
       "      <td>288.0</td>\n",
       "      <td>2.30</td>\n",
       "      <td>2.15</td>\n",
       "      <td>0.0</td>\n",
       "      <td>0.00</td>\n",
       "      <td>1.91</td>\n",
       "      <td>5.0</td>\n",
       "      <td>5.0</td>\n",
       "    </tr>\n",
       "  </tbody>\n",
       "</table>\n",
       "</div>"
      ],
      "text/plain": [
       "              proteinas_vegetais                                       \n",
       "                           count  mean   std  min   25%   50%  75%  max\n",
       "phq_grp_final                                                          \n",
       "0.0                       3942.0  2.61  2.17  0.0  0.03  2.63  5.0  5.0\n",
       "1.0                        474.0  2.52  2.14  0.0  0.00  2.44  5.0  5.0\n",
       "2.0                        288.0  2.30  2.15  0.0  0.00  1.91  5.0  5.0"
      ]
     },
     "metadata": {},
     "output_type": "display_data"
    },
    {
     "data": {
      "text/html": [
       "<div>\n",
       "<style scoped>\n",
       "    .dataframe tbody tr th:only-of-type {\n",
       "        vertical-align: middle;\n",
       "    }\n",
       "\n",
       "    .dataframe tbody tr th {\n",
       "        vertical-align: top;\n",
       "    }\n",
       "\n",
       "    .dataframe thead tr th {\n",
       "        text-align: left;\n",
       "    }\n",
       "\n",
       "    .dataframe thead tr:last-of-type th {\n",
       "        text-align: right;\n",
       "    }\n",
       "</style>\n",
       "<table border=\"1\" class=\"dataframe\">\n",
       "  <thead>\n",
       "    <tr>\n",
       "      <th></th>\n",
       "      <th colspan=\"8\" halign=\"left\">acido_graxo</th>\n",
       "    </tr>\n",
       "    <tr>\n",
       "      <th></th>\n",
       "      <th>count</th>\n",
       "      <th>mean</th>\n",
       "      <th>std</th>\n",
       "      <th>min</th>\n",
       "      <th>25%</th>\n",
       "      <th>50%</th>\n",
       "      <th>75%</th>\n",
       "      <th>max</th>\n",
       "    </tr>\n",
       "    <tr>\n",
       "      <th>phq_grp_final</th>\n",
       "      <th></th>\n",
       "      <th></th>\n",
       "      <th></th>\n",
       "      <th></th>\n",
       "      <th></th>\n",
       "      <th></th>\n",
       "      <th></th>\n",
       "      <th></th>\n",
       "    </tr>\n",
       "  </thead>\n",
       "  <tbody>\n",
       "    <tr>\n",
       "      <th>0.0</th>\n",
       "      <td>3942.0</td>\n",
       "      <td>4.72</td>\n",
       "      <td>3.24</td>\n",
       "      <td>0.0</td>\n",
       "      <td>2.02</td>\n",
       "      <td>4.43</td>\n",
       "      <td>7.29</td>\n",
       "      <td>10.0</td>\n",
       "    </tr>\n",
       "    <tr>\n",
       "      <th>1.0</th>\n",
       "      <td>474.0</td>\n",
       "      <td>4.73</td>\n",
       "      <td>3.19</td>\n",
       "      <td>0.0</td>\n",
       "      <td>2.08</td>\n",
       "      <td>4.55</td>\n",
       "      <td>7.08</td>\n",
       "      <td>10.0</td>\n",
       "    </tr>\n",
       "    <tr>\n",
       "      <th>2.0</th>\n",
       "      <td>288.0</td>\n",
       "      <td>4.36</td>\n",
       "      <td>3.16</td>\n",
       "      <td>0.0</td>\n",
       "      <td>1.63</td>\n",
       "      <td>4.09</td>\n",
       "      <td>6.76</td>\n",
       "      <td>10.0</td>\n",
       "    </tr>\n",
       "  </tbody>\n",
       "</table>\n",
       "</div>"
      ],
      "text/plain": [
       "              acido_graxo                                         \n",
       "                    count  mean   std  min   25%   50%   75%   max\n",
       "phq_grp_final                                                     \n",
       "0.0                3942.0  4.72  3.24  0.0  2.02  4.43  7.29  10.0\n",
       "1.0                 474.0  4.73  3.19  0.0  2.08  4.55  7.08  10.0\n",
       "2.0                 288.0  4.36  3.16  0.0  1.63  4.09  6.76  10.0"
      ]
     },
     "metadata": {},
     "output_type": "display_data"
    },
    {
     "data": {
      "text/html": [
       "<div>\n",
       "<style scoped>\n",
       "    .dataframe tbody tr th:only-of-type {\n",
       "        vertical-align: middle;\n",
       "    }\n",
       "\n",
       "    .dataframe tbody tr th {\n",
       "        vertical-align: top;\n",
       "    }\n",
       "\n",
       "    .dataframe thead tr th {\n",
       "        text-align: left;\n",
       "    }\n",
       "\n",
       "    .dataframe thead tr:last-of-type th {\n",
       "        text-align: right;\n",
       "    }\n",
       "</style>\n",
       "<table border=\"1\" class=\"dataframe\">\n",
       "  <thead>\n",
       "    <tr>\n",
       "      <th></th>\n",
       "      <th colspan=\"8\" halign=\"left\">sodio</th>\n",
       "    </tr>\n",
       "    <tr>\n",
       "      <th></th>\n",
       "      <th>count</th>\n",
       "      <th>mean</th>\n",
       "      <th>std</th>\n",
       "      <th>min</th>\n",
       "      <th>25%</th>\n",
       "      <th>50%</th>\n",
       "      <th>75%</th>\n",
       "      <th>max</th>\n",
       "    </tr>\n",
       "    <tr>\n",
       "      <th>phq_grp_final</th>\n",
       "      <th></th>\n",
       "      <th></th>\n",
       "      <th></th>\n",
       "      <th></th>\n",
       "      <th></th>\n",
       "      <th></th>\n",
       "      <th></th>\n",
       "      <th></th>\n",
       "    </tr>\n",
       "  </thead>\n",
       "  <tbody>\n",
       "    <tr>\n",
       "      <th>0.0</th>\n",
       "      <td>3942.0</td>\n",
       "      <td>4.69</td>\n",
       "      <td>3.40</td>\n",
       "      <td>0.0</td>\n",
       "      <td>1.49</td>\n",
       "      <td>4.76</td>\n",
       "      <td>7.53</td>\n",
       "      <td>10.0</td>\n",
       "    </tr>\n",
       "    <tr>\n",
       "      <th>1.0</th>\n",
       "      <td>474.0</td>\n",
       "      <td>4.96</td>\n",
       "      <td>3.45</td>\n",
       "      <td>0.0</td>\n",
       "      <td>1.75</td>\n",
       "      <td>5.08</td>\n",
       "      <td>7.89</td>\n",
       "      <td>10.0</td>\n",
       "    </tr>\n",
       "    <tr>\n",
       "      <th>2.0</th>\n",
       "      <td>288.0</td>\n",
       "      <td>5.20</td>\n",
       "      <td>3.47</td>\n",
       "      <td>0.0</td>\n",
       "      <td>2.60</td>\n",
       "      <td>5.14</td>\n",
       "      <td>8.43</td>\n",
       "      <td>10.0</td>\n",
       "    </tr>\n",
       "  </tbody>\n",
       "</table>\n",
       "</div>"
      ],
      "text/plain": [
       "                sodio                                         \n",
       "                count  mean   std  min   25%   50%   75%   max\n",
       "phq_grp_final                                                 \n",
       "0.0            3942.0  4.69  3.40  0.0  1.49  4.76  7.53  10.0\n",
       "1.0             474.0  4.96  3.45  0.0  1.75  5.08  7.89  10.0\n",
       "2.0             288.0  5.20  3.47  0.0  2.60  5.14  8.43  10.0"
      ]
     },
     "metadata": {},
     "output_type": "display_data"
    },
    {
     "data": {
      "text/html": [
       "<div>\n",
       "<style scoped>\n",
       "    .dataframe tbody tr th:only-of-type {\n",
       "        vertical-align: middle;\n",
       "    }\n",
       "\n",
       "    .dataframe tbody tr th {\n",
       "        vertical-align: top;\n",
       "    }\n",
       "\n",
       "    .dataframe thead tr th {\n",
       "        text-align: left;\n",
       "    }\n",
       "\n",
       "    .dataframe thead tr:last-of-type th {\n",
       "        text-align: right;\n",
       "    }\n",
       "</style>\n",
       "<table border=\"1\" class=\"dataframe\">\n",
       "  <thead>\n",
       "    <tr>\n",
       "      <th></th>\n",
       "      <th colspan=\"8\" halign=\"left\">graos_refinados</th>\n",
       "    </tr>\n",
       "    <tr>\n",
       "      <th></th>\n",
       "      <th>count</th>\n",
       "      <th>mean</th>\n",
       "      <th>std</th>\n",
       "      <th>min</th>\n",
       "      <th>25%</th>\n",
       "      <th>50%</th>\n",
       "      <th>75%</th>\n",
       "      <th>max</th>\n",
       "    </tr>\n",
       "    <tr>\n",
       "      <th>phq_grp_final</th>\n",
       "      <th></th>\n",
       "      <th></th>\n",
       "      <th></th>\n",
       "      <th></th>\n",
       "      <th></th>\n",
       "      <th></th>\n",
       "      <th></th>\n",
       "      <th></th>\n",
       "    </tr>\n",
       "  </thead>\n",
       "  <tbody>\n",
       "    <tr>\n",
       "      <th>0.0</th>\n",
       "      <td>3942.0</td>\n",
       "      <td>5.80</td>\n",
       "      <td>3.46</td>\n",
       "      <td>0.0</td>\n",
       "      <td>2.97</td>\n",
       "      <td>6.19</td>\n",
       "      <td>9.19</td>\n",
       "      <td>10.0</td>\n",
       "    </tr>\n",
       "    <tr>\n",
       "      <th>1.0</th>\n",
       "      <td>474.0</td>\n",
       "      <td>5.74</td>\n",
       "      <td>3.62</td>\n",
       "      <td>0.0</td>\n",
       "      <td>2.76</td>\n",
       "      <td>6.23</td>\n",
       "      <td>9.53</td>\n",
       "      <td>10.0</td>\n",
       "    </tr>\n",
       "    <tr>\n",
       "      <th>2.0</th>\n",
       "      <td>288.0</td>\n",
       "      <td>6.09</td>\n",
       "      <td>3.52</td>\n",
       "      <td>0.0</td>\n",
       "      <td>3.34</td>\n",
       "      <td>6.85</td>\n",
       "      <td>9.58</td>\n",
       "      <td>10.0</td>\n",
       "    </tr>\n",
       "  </tbody>\n",
       "</table>\n",
       "</div>"
      ],
      "text/plain": [
       "              graos_refinados                                         \n",
       "                        count  mean   std  min   25%   50%   75%   max\n",
       "phq_grp_final                                                         \n",
       "0.0                    3942.0  5.80  3.46  0.0  2.97  6.19  9.19  10.0\n",
       "1.0                     474.0  5.74  3.62  0.0  2.76  6.23  9.53  10.0\n",
       "2.0                     288.0  6.09  3.52  0.0  3.34  6.85  9.58  10.0"
      ]
     },
     "metadata": {},
     "output_type": "display_data"
    },
    {
     "data": {
      "text/html": [
       "<div>\n",
       "<style scoped>\n",
       "    .dataframe tbody tr th:only-of-type {\n",
       "        vertical-align: middle;\n",
       "    }\n",
       "\n",
       "    .dataframe tbody tr th {\n",
       "        vertical-align: top;\n",
       "    }\n",
       "\n",
       "    .dataframe thead tr th {\n",
       "        text-align: left;\n",
       "    }\n",
       "\n",
       "    .dataframe thead tr:last-of-type th {\n",
       "        text-align: right;\n",
       "    }\n",
       "</style>\n",
       "<table border=\"1\" class=\"dataframe\">\n",
       "  <thead>\n",
       "    <tr>\n",
       "      <th></th>\n",
       "      <th colspan=\"8\" halign=\"left\">gordura_saturada</th>\n",
       "    </tr>\n",
       "    <tr>\n",
       "      <th></th>\n",
       "      <th>count</th>\n",
       "      <th>mean</th>\n",
       "      <th>std</th>\n",
       "      <th>min</th>\n",
       "      <th>25%</th>\n",
       "      <th>50%</th>\n",
       "      <th>75%</th>\n",
       "      <th>max</th>\n",
       "    </tr>\n",
       "    <tr>\n",
       "      <th>phq_grp_final</th>\n",
       "      <th></th>\n",
       "      <th></th>\n",
       "      <th></th>\n",
       "      <th></th>\n",
       "      <th></th>\n",
       "      <th></th>\n",
       "      <th></th>\n",
       "      <th></th>\n",
       "    </tr>\n",
       "  </thead>\n",
       "  <tbody>\n",
       "    <tr>\n",
       "      <th>0.0</th>\n",
       "      <td>3942.0</td>\n",
       "      <td>6.05</td>\n",
       "      <td>3.17</td>\n",
       "      <td>0.0</td>\n",
       "      <td>3.70</td>\n",
       "      <td>6.36</td>\n",
       "      <td>8.97</td>\n",
       "      <td>10.0</td>\n",
       "    </tr>\n",
       "    <tr>\n",
       "      <th>1.0</th>\n",
       "      <td>474.0</td>\n",
       "      <td>6.04</td>\n",
       "      <td>3.15</td>\n",
       "      <td>0.0</td>\n",
       "      <td>3.63</td>\n",
       "      <td>6.46</td>\n",
       "      <td>8.92</td>\n",
       "      <td>10.0</td>\n",
       "    </tr>\n",
       "    <tr>\n",
       "      <th>2.0</th>\n",
       "      <td>288.0</td>\n",
       "      <td>5.78</td>\n",
       "      <td>3.31</td>\n",
       "      <td>0.0</td>\n",
       "      <td>2.92</td>\n",
       "      <td>6.38</td>\n",
       "      <td>8.66</td>\n",
       "      <td>10.0</td>\n",
       "    </tr>\n",
       "  </tbody>\n",
       "</table>\n",
       "</div>"
      ],
      "text/plain": [
       "              gordura_saturada                                         \n",
       "                         count  mean   std  min   25%   50%   75%   max\n",
       "phq_grp_final                                                          \n",
       "0.0                     3942.0  6.05  3.17  0.0  3.70  6.36  8.97  10.0\n",
       "1.0                      474.0  6.04  3.15  0.0  3.63  6.46  8.92  10.0\n",
       "2.0                      288.0  5.78  3.31  0.0  2.92  6.38  8.66  10.0"
      ]
     },
     "metadata": {},
     "output_type": "display_data"
    },
    {
     "data": {
      "text/html": [
       "<div>\n",
       "<style scoped>\n",
       "    .dataframe tbody tr th:only-of-type {\n",
       "        vertical-align: middle;\n",
       "    }\n",
       "\n",
       "    .dataframe tbody tr th {\n",
       "        vertical-align: top;\n",
       "    }\n",
       "\n",
       "    .dataframe thead tr th {\n",
       "        text-align: left;\n",
       "    }\n",
       "\n",
       "    .dataframe thead tr:last-of-type th {\n",
       "        text-align: right;\n",
       "    }\n",
       "</style>\n",
       "<table border=\"1\" class=\"dataframe\">\n",
       "  <thead>\n",
       "    <tr>\n",
       "      <th></th>\n",
       "      <th colspan=\"8\" halign=\"left\">açucar_adicional</th>\n",
       "    </tr>\n",
       "    <tr>\n",
       "      <th></th>\n",
       "      <th>count</th>\n",
       "      <th>mean</th>\n",
       "      <th>std</th>\n",
       "      <th>min</th>\n",
       "      <th>25%</th>\n",
       "      <th>50%</th>\n",
       "      <th>75%</th>\n",
       "      <th>max</th>\n",
       "    </tr>\n",
       "    <tr>\n",
       "      <th>phq_grp_final</th>\n",
       "      <th></th>\n",
       "      <th></th>\n",
       "      <th></th>\n",
       "      <th></th>\n",
       "      <th></th>\n",
       "      <th></th>\n",
       "      <th></th>\n",
       "      <th></th>\n",
       "    </tr>\n",
       "  </thead>\n",
       "  <tbody>\n",
       "    <tr>\n",
       "      <th>0.0</th>\n",
       "      <td>3942.0</td>\n",
       "      <td>6.29</td>\n",
       "      <td>3.29</td>\n",
       "      <td>0.0</td>\n",
       "      <td>3.87</td>\n",
       "      <td>6.93</td>\n",
       "      <td>9.50</td>\n",
       "      <td>10.0</td>\n",
       "    </tr>\n",
       "    <tr>\n",
       "      <th>1.0</th>\n",
       "      <td>474.0</td>\n",
       "      <td>5.93</td>\n",
       "      <td>3.47</td>\n",
       "      <td>0.0</td>\n",
       "      <td>3.08</td>\n",
       "      <td>6.70</td>\n",
       "      <td>9.17</td>\n",
       "      <td>10.0</td>\n",
       "    </tr>\n",
       "    <tr>\n",
       "      <th>2.0</th>\n",
       "      <td>288.0</td>\n",
       "      <td>5.45</td>\n",
       "      <td>3.65</td>\n",
       "      <td>0.0</td>\n",
       "      <td>2.19</td>\n",
       "      <td>5.67</td>\n",
       "      <td>9.16</td>\n",
       "      <td>10.0</td>\n",
       "    </tr>\n",
       "  </tbody>\n",
       "</table>\n",
       "</div>"
      ],
      "text/plain": [
       "              açucar_adicional                                         \n",
       "                         count  mean   std  min   25%   50%   75%   max\n",
       "phq_grp_final                                                          \n",
       "0.0                     3942.0  6.29  3.29  0.0  3.87  6.93  9.50  10.0\n",
       "1.0                      474.0  5.93  3.47  0.0  3.08  6.70  9.17  10.0\n",
       "2.0                      288.0  5.45  3.65  0.0  2.19  5.67  9.16  10.0"
      ]
     },
     "metadata": {},
     "output_type": "display_data"
    },
    {
     "data": {
      "text/html": [
       "<div>\n",
       "<style scoped>\n",
       "    .dataframe tbody tr th:only-of-type {\n",
       "        vertical-align: middle;\n",
       "    }\n",
       "\n",
       "    .dataframe tbody tr th {\n",
       "        vertical-align: top;\n",
       "    }\n",
       "\n",
       "    .dataframe thead tr th {\n",
       "        text-align: left;\n",
       "    }\n",
       "\n",
       "    .dataframe thead tr:last-of-type th {\n",
       "        text-align: right;\n",
       "    }\n",
       "</style>\n",
       "<table border=\"1\" class=\"dataframe\">\n",
       "  <thead>\n",
       "    <tr>\n",
       "      <th></th>\n",
       "      <th colspan=\"8\" halign=\"left\">escore_total</th>\n",
       "    </tr>\n",
       "    <tr>\n",
       "      <th></th>\n",
       "      <th>count</th>\n",
       "      <th>mean</th>\n",
       "      <th>std</th>\n",
       "      <th>min</th>\n",
       "      <th>25%</th>\n",
       "      <th>50%</th>\n",
       "      <th>75%</th>\n",
       "      <th>max</th>\n",
       "    </tr>\n",
       "    <tr>\n",
       "      <th>phq_grp_final</th>\n",
       "      <th></th>\n",
       "      <th></th>\n",
       "      <th></th>\n",
       "      <th></th>\n",
       "      <th></th>\n",
       "      <th></th>\n",
       "      <th></th>\n",
       "      <th></th>\n",
       "    </tr>\n",
       "  </thead>\n",
       "  <tbody>\n",
       "    <tr>\n",
       "      <th>0.0</th>\n",
       "      <td>3942.0</td>\n",
       "      <td>50.17</td>\n",
       "      <td>12.46</td>\n",
       "      <td>16.06</td>\n",
       "      <td>41.09</td>\n",
       "      <td>49.81</td>\n",
       "      <td>58.42</td>\n",
       "      <td>89.53</td>\n",
       "    </tr>\n",
       "    <tr>\n",
       "      <th>1.0</th>\n",
       "      <td>474.0</td>\n",
       "      <td>49.07</td>\n",
       "      <td>11.66</td>\n",
       "      <td>16.49</td>\n",
       "      <td>40.94</td>\n",
       "      <td>48.39</td>\n",
       "      <td>56.99</td>\n",
       "      <td>81.52</td>\n",
       "    </tr>\n",
       "    <tr>\n",
       "      <th>2.0</th>\n",
       "      <td>288.0</td>\n",
       "      <td>47.59</td>\n",
       "      <td>11.50</td>\n",
       "      <td>21.63</td>\n",
       "      <td>39.11</td>\n",
       "      <td>46.50</td>\n",
       "      <td>55.95</td>\n",
       "      <td>83.30</td>\n",
       "    </tr>\n",
       "  </tbody>\n",
       "</table>\n",
       "</div>"
      ],
      "text/plain": [
       "              escore_total                                                 \n",
       "                     count   mean    std    min    25%    50%    75%    max\n",
       "phq_grp_final                                                              \n",
       "0.0                 3942.0  50.17  12.46  16.06  41.09  49.81  58.42  89.53\n",
       "1.0                  474.0  49.07  11.66  16.49  40.94  48.39  56.99  81.52\n",
       "2.0                  288.0  47.59  11.50  21.63  39.11  46.50  55.95  83.30"
      ]
     },
     "metadata": {},
     "output_type": "display_data"
    }
   ],
   "source": [
    "# Visualizando cada grupo de variaveis quantitativas separadamente\n",
    "\n",
    "from IPython.display import display\n",
    "\n",
    "for var in var_quant:\n",
    "    display(db_treated[['phq_grp_final', var]].groupby('phq_grp_final').describe().round(2))"
   ]
  },
  {
   "cell_type": "markdown",
   "id": "iKNcs44ANJji",
   "metadata": {
    "id": "iKNcs44ANJji"
   },
   "source": [
    "## 2.1) EDA: Análise Bivariada"
   ]
  },
  {
   "cell_type": "code",
   "execution_count": 39,
   "id": "804b24bb",
   "metadata": {
    "id": "804b24bb"
   },
   "outputs": [],
   "source": [
    "# Analisando grupos de variaveis \"Idade ,\"Renda Anual Familiar,\"Atividade Física (min/semana) e Gênero\n",
    "\n",
    "# Função para construir boxplot\n",
    "\n",
    "def grafico_boxplot_grp(data, variable, label):\n",
    "    \n",
    "    if label == \"\": label = variable\n",
    "    sns.boxplot(x=\"phq_grp_final\", y=variable, data=data.replace({'phq_grp_final': {0: \"Sem sintomas\", \n",
    "                                                                          1: \"Sintomas leves\",\n",
    "                                                                          2: \"Sintomas mod-graves\"}}))\n",
    "    plt.ylabel(label)\n",
    "    plt.show()\n",
    "    "
   ]
  },
  {
   "cell_type": "code",
   "execution_count": 40,
   "id": "tlq0XZDLb8iV",
   "metadata": {
    "colab": {
     "base_uri": "https://localhost:8080/",
     "height": 280
    },
    "executionInfo": {
     "elapsed": 619,
     "status": "ok",
     "timestamp": 1644325509060,
     "user": {
      "displayName": "Brisa Gonçalves",
      "photoUrl": "https://lh3.googleusercontent.com/a-/AOh14GitzE3yBEnyqzopa88QrW2MbETwuEkAWSdRG9efhg0=s64",
      "userId": "03031556768674861812"
     },
     "user_tz": 180
    },
    "id": "tlq0XZDLb8iV",
    "outputId": "f59585af-fad1-4f91-8d17-aae529e9c4ef"
   },
   "outputs": [
    {
     "data": {
      "image/png": "[encoded data removed]",
      "text/plain": [
       "<Figure size 432x288 with 1 Axes>"
      ]
     },
     "metadata": {
      "needs_background": "light"
     },
     "output_type": "display_data"
    }
   ],
   "source": [
    "# Boxplot Idade x Sintomas depressão\n",
    "\n",
    "grafico_boxplot_grp(db_treated, \"idade\", \"Idade\")"
   ]
  },
  {
   "cell_type": "markdown",
   "id": "qctoTX0da54P",
   "metadata": {
    "id": "qctoTX0da54P"
   },
   "source": [
    "### Observações\n",
    "\n",
    "*   Correlação entre idade e sintomas moderados a severos\n",
    "*   A partir dos 40 anos os sintomas parecem ser mais graves \n",
    "\n"
   ]
  },
  {
   "cell_type": "code",
   "execution_count": 41,
   "id": "50afa4df",
   "metadata": {
    "colab": {
     "base_uri": "https://localhost:8080/",
     "height": 280
    },
    "executionInfo": {
     "elapsed": 549,
     "status": "ok",
     "timestamp": 1644325592903,
     "user": {
      "displayName": "Brisa Gonçalves",
      "photoUrl": "https://lh3.googleusercontent.com/a-/AOh14GitzE3yBEnyqzopa88QrW2MbETwuEkAWSdRG9efhg0=s64",
      "userId": "03031556768674861812"
     },
     "user_tz": 180
    },
    "id": "50afa4df",
    "outputId": "c2fcd9d3-e39d-4f36-98c9-d84feb5e1582"
   },
   "outputs": [
    {
     "data": {
      "image/png": "[encoded data removed]",
      "text/plain": [
       "<Figure size 432x288 with 1 Axes>"
      ]
     },
     "metadata": {
      "needs_background": "light"
     },
     "output_type": "display_data"
    }
   ],
   "source": [
    "# Renda Familiar Anual X Sintomas depressão\n",
    "\n",
    "grafico_boxplot_grp(db_treated, \"renda_familiar_anual\", \"Renda Anual Familiar (US$)\")"
   ]
  },
  {
   "cell_type": "markdown",
   "id": "24lRjEEzKCdB",
   "metadata": {
    "id": "24lRjEEzKCdB"
   },
   "source": [
    "### Observações\n",
    "\n",
    "*  Distribuição dos dados indica uma alta correlação entre baixa renda familiar e sintomas de depressão severa\n",
    "\n",
    "*   Renda familiar até 4.000 dolares anuais tem maior incidência de sintomas moderados e severos\n",
    "\n"
   ]
  },
  {
   "cell_type": "code",
   "execution_count": 42,
   "id": "e84576f8",
   "metadata": {
    "colab": {
     "base_uri": "https://localhost:8080/",
     "height": 280
    },
    "executionInfo": {
     "elapsed": 473,
     "status": "ok",
     "timestamp": 1644325622307,
     "user": {
      "displayName": "Brisa Gonçalves",
      "photoUrl": "https://lh3.googleusercontent.com/a-/AOh14GitzE3yBEnyqzopa88QrW2MbETwuEkAWSdRG9efhg0=s64",
      "userId": "03031556768674861812"
     },
     "user_tz": 180
    },
    "id": "e84576f8",
    "outputId": "1f48e765-ca42-438b-cde9-f9b11b3e10fe"
   },
   "outputs": [
    {
     "data": {
      "image/png": "[encoded data removed]",
      "text/plain": [
       "<Figure size 432x288 with 1 Axes>"
      ]
     },
     "metadata": {
      "needs_background": "light"
     },
     "output_type": "display_data"
    }
   ],
   "source": [
    "# Atividade aeróbica semanal X Sintomas de depressão\n",
    "\n",
    "grafico_boxplot_grp(db_treated, \"aerobico_min\", \"Atividade Física (min/semana)\")"
   ]
  },
  {
   "cell_type": "code",
   "execution_count": 43,
   "id": "24a4e31b",
   "metadata": {
    "id": "24a4e31b",
    "outputId": "4c463f32-8088-4d81-bb8f-1b775e4f8cf7",
    "scrolled": false
   },
   "outputs": [
    {
     "data": {
      "image/png": "[encoded data removed]",
      "text/plain": [
       "<Figure size 432x288 with 1 Axes>"
      ]
     },
     "metadata": {
      "needs_background": "light"
     },
     "output_type": "display_data"
    },
    {
     "data": {
      "image/png": "[encoded data removed]",
      "text/plain": [
       "<Figure size 432x288 with 1 Axes>"
      ]
     },
     "metadata": {
      "needs_background": "light"
     },
     "output_type": "display_data"
    },
    {
     "data": {
      "image/png": "[encoded data removed]",
      "text/plain": [
       "<Figure size 432x288 with 1 Axes>"
      ]
     },
     "metadata": {
      "needs_background": "light"
     },
     "output_type": "display_data"
    },
    {
     "data": {
      "image/png": "[encoded data removed]",
      "text/plain": [
       "<Figure size 432x288 with 1 Axes>"
      ]
     },
     "metadata": {
      "needs_background": "light"
     },
     "output_type": "display_data"
    },
    {
     "data": {
      "image/png": "[encoded data removed]",
      "text/plain": [
       "<Figure size 432x288 with 1 Axes>"
      ]
     },
     "metadata": {
      "needs_background": "light"
     },
     "output_type": "display_data"
    },
    {
     "data": {
      "image/png": "[encoded data removed]",
      "text/plain": [
       "<Figure size 432x288 with 1 Axes>"
      ]
     },
     "metadata": {
      "needs_background": "light"
     },
     "output_type": "display_data"
    },
    {
     "data": {
      "image/png": "[encoded data removed]",
      "text/plain": [
       "<Figure size 432x288 with 1 Axes>"
      ]
     },
     "metadata": {
      "needs_background": "light"
     },
     "output_type": "display_data"
    },
    {
     "data": {
      "image/png": "[encoded data removed]",
      "text/plain": [
       "<Figure size 432x288 with 1 Axes>"
      ]
     },
     "metadata": {
      "needs_background": "light"
     },
     "output_type": "display_data"
    },
    {
     "data": {
      "image/png": "[encoded data removed]",
      "text/plain": [
       "<Figure size 432x288 with 1 Axes>"
      ]
     },
     "metadata": {
      "needs_background": "light"
     },
     "output_type": "display_data"
    },
    {
     "data": {
      "image/png": "[encoded data removed]",
      "text/plain": [
       "<Figure size 432x288 with 1 Axes>"
      ]
     },
     "metadata": {
      "needs_background": "light"
     },
     "output_type": "display_data"
    },
    {
     "data": {
      "image/png": "[encoded data removed]",
      "text/plain": [
       "<Figure size 432x288 with 1 Axes>"
      ]
     },
     "metadata": {
      "needs_background": "light"
     },
     "output_type": "display_data"
    },
    {
     "data": {
      "image/png": "[encoded data removed]",
      "text/plain": [
       "<Figure size 432x288 with 1 Axes>"
      ]
     },
     "metadata": {
      "needs_background": "light"
     },
     "output_type": "display_data"
    },
    {
     "data": {
      "image/png": "[encoded data removed]",
      "text/plain": [
       "<Figure size 432x288 with 1 Axes>"
      ]
     },
     "metadata": {
      "needs_background": "light"
     },
     "output_type": "display_data"
    },
    {
     "data": {
      "image/png": "[encoded data removed]",
      "text/plain": [
       "<Figure size 432x288 with 1 Axes>"
      ]
     },
     "metadata": {
      "needs_background": "light"
     },
     "output_type": "display_data"
    },
    {
     "data": {
      "image/png": "[encoded data removed]",
      "text/plain": [
       "<Figure size 432x288 with 1 Axes>"
      ]
     },
     "metadata": {
      "needs_background": "light"
     },
     "output_type": "display_data"
    },
    {
     "data": {
      "image/png": "[encoded data removed]",
      "text/plain": [
       "<Figure size 432x288 with 1 Axes>"
      ]
     },
     "metadata": {
      "needs_background": "light"
     },
     "output_type": "display_data"
    },
    {
     "data": {
      "image/png": "[encoded data removed]",
      "text/plain": [
       "<Figure size 432x288 with 1 Axes>"
      ]
     },
     "metadata": {
      "needs_background": "light"
     },
     "output_type": "display_data"
    }
   ],
   "source": [
    "# Analisando as variáveis quantitativais\n",
    "\n",
    "for var in var_quant:\n",
    "    grafico_boxplot_grp(db_treated, var, \"\")"
   ]
  },
  {
   "cell_type": "markdown",
   "id": "UplDpBCwJbVL",
   "metadata": {
    "id": "UplDpBCwJbVL"
   },
   "source": [
    "### Observações:\n",
    "Resumo das principais conclusões\n",
    "\n",
    "*   Os hábitos alimentares parecem ter impacto nos sintomas de depressão: indivíduos com baixo consumo de Grão integrais e Verduras verde escuras na dieta mostra sintomas mais severos;\n",
    "*   Atividade aeróbica parece ter impacto positivo nos sintomas de depressão;\n",
    "*   Indivíduos acima de 40 anos têm mais sintomas moderados e severos;\n",
    "*   Indivíduos com Renda familiar anual abaixo de 4.000 dólares têm mais sintomas severos.  "
   ]
  },
  {
   "cell_type": "code",
   "execution_count": 44,
   "id": "a5a99128",
   "metadata": {
    "id": "a5a99128",
    "outputId": "1e5a90de-ea6a-482e-d5f2-1e3134967a46"
   },
   "outputs": [
    {
     "data": {
      "image/png": "[encoded data removed]",
      "text/plain": [
       "<Figure size 864x576 with 2 Axes>"
      ]
     },
     "metadata": {
      "needs_background": "light"
     },
     "output_type": "display_data"
    }
   ],
   "source": [
    "# Analisando correlaçoes entre todas as variaveis da var_quant\n",
    "\n",
    "sns.set_context(font_scale = 2.0)\n",
    "plt.figure(figsize = (12,8))\n",
    "sns.heatmap(\n",
    "    db_treated[var_quant].corr(), \n",
    "    annot = True, \n",
    "    fmt = \".2f\",\n",
    "    cmap = \"RdBu\", \n",
    ")\n",
    "\n",
    "plt.show()"
   ]
  },
  {
   "cell_type": "markdown",
   "id": "4503e2a6",
   "metadata": {
    "id": "4503e2a6"
   },
   "source": [
    "## 3) Teste de Hipóteses\n",
    "\n",
    "### * H0: Não existe relação entre hábitos saudáveis e sintomas de depressão\n",
    "\n",
    "### * Ha: Existe alguma relação entre hábitos saudáveis e sintomas de depressão"
   ]
  },
  {
   "cell_type": "code",
   "execution_count": 46,
   "id": "8c07cb15",
   "metadata": {
    "id": "8c07cb15",
    "outputId": "19f1ea46-daa7-4ccf-ad2f-46137f13d3f4"
   },
   "outputs": [
    {
     "name": "stdout",
     "output_type": "stream",
     "text": [
      "Results of ANOVA test:\n",
      " The F-statistic is: 564.344840752387\n",
      " The p-value is: 3.785933583228139e-225\n"
     ]
    }
   ],
   "source": [
    "# ANOVA teste F\n",
    "# p< 0.05\n",
    "\n",
    "# Alimentação x sintomas de depressão\n",
    "\n",
    "db_test = db_treated.notnull()\n",
    "\n",
    "stat, p = f_oneway(db_test[db_test['phq_grp_final'] == 0 & db_test['escore_total']][\"escore_total\"],\n",
    "                   db_test[db_test['phq_grp_final'] == 1 & db_test['escore_total']][\"escore_total\"],\n",
    "                   db_test[db_test['phq_grp_final'] == 2 & db_test['escore_total']][\"escore_total\"])\n",
    "\n",
    "print(f\"Results of ANOVA test:\\n The F-statistic is: {stat}\\n The p-value is: {p}\")"
   ]
  },
  {
   "cell_type": "markdown",
   "id": "44099008",
   "metadata": {},
   "source": [
    "### Observação\n",
    "\n",
    "* p<0,05(Rejeita H0): <b>há relação entre a alimentação e os sintomas de depressão</b>"
   ]
  },
  {
   "cell_type": "code",
   "execution_count": 48,
   "id": "ea1ec8fc",
   "metadata": {},
   "outputs": [
    {
     "name": "stdout",
     "output_type": "stream",
     "text": [
      "Multiple Comparison of Means - Tukey HSD, FWER=0.05 \n",
      "====================================================\n",
      "group1 group2 meandiff p-adj   lower   upper  reject\n",
      "----------------------------------------------------\n",
      "   0.0    1.0  -1.2916 0.0888 -2.7299  0.1467  False\n",
      "   0.0    2.0   -2.726  0.001  -4.506 -0.9461   True\n",
      "   1.0    2.0  -1.4344 0.2749 -3.6262  0.7573  False\n",
      "----------------------------------------------------\n"
     ]
    }
   ],
   "source": [
    "# Teste de multiplo de Tukey - alimentação saudável x sintomas de depressão\n",
    "\n",
    "# Teste 1 = Comparação das médias de escore_total do grupo sem sintomas x Grupo com sintomas leves\n",
    "# Teste 2 = Comparação das médias de escore_total do grupo sem sintomas X Grupo com sintomas moderados a severos\n",
    "# Teste 3 = Comparação das médias de escore_total do grupo com sintomas leves x Grupo com sintomas moderados a severos\n",
    "\n",
    "df_tukey = db_treated.dropna() # deletando valors nulos\n",
    "tukey = pairwise_tukeyhsd(df_tukey['escore_total'],\n",
    "                  df_tukey['phq_grp_final'],\n",
    "                  alpha = 0.05)\n",
    "\n",
    "print(tukey)"
   ]
  },
  {
   "cell_type": "markdown",
   "id": "e60104d3",
   "metadata": {},
   "source": [
    "### Observações\n",
    "\n",
    "* Existe diferença estatística entre escore total(alimentação saudável) e o grupo sem sintomas(0.0) comparado grupo com sintomas moderados a severos(2.0) - H0 rejeitada\n",
    "* As outras comparações falharam em rejeitar H0"
   ]
  },
  {
   "cell_type": "code",
   "execution_count": 49,
   "id": "8829074a",
   "metadata": {},
   "outputs": [
    {
     "name": "stdout",
     "output_type": "stream",
     "text": [
      "     Multiple Comparison of Means - Tukey HSD, FWER=0.05     \n",
      "=============================================================\n",
      "group1 group2   meandiff  p-adj    lower      upper    reject\n",
      "-------------------------------------------------------------\n",
      "   0.0    1.0   -5440.655   0.0  -8255.6909 -2625.6192   True\n",
      "   0.0    2.0 -13377.1642   0.0 -16860.8851 -9893.4433   True\n",
      "   1.0    2.0  -7936.5091   0.0 -12226.2555 -3646.7628   True\n",
      "-------------------------------------------------------------\n"
     ]
    }
   ],
   "source": [
    "# Teste de multiplo de Tukey - renda familiar anual x sintomas de depressão\n",
    "\n",
    "tukey = pairwise_tukeyhsd(df_tukey['renda_familiar_anual'],\n",
    "                  df_tukey['phq_grp_final'],\n",
    "                  alpha = 0.05)\n",
    "\n",
    "print(tukey)"
   ]
  },
  {
   "cell_type": "markdown",
   "id": "66d88a82",
   "metadata": {},
   "source": [
    "### Observação\n",
    "\n",
    "* Existe diferença estatística entre as médias dos grupos renda_familiar_anual em relação grupos de sintomas de depressão (H0 rejeitada)"
   ]
  },
  {
   "cell_type": "code",
   "execution_count": 51,
   "id": "77e32939",
   "metadata": {
    "scrolled": true
   },
   "outputs": [
    {
     "name": "stdout",
     "output_type": "stream",
     "text": [
      "Multiple Comparison of Means - Tukey HSD, FWER=0.05\n",
      "===================================================\n",
      "group1 group2 meandiff p-adj   lower  upper  reject\n",
      "---------------------------------------------------\n",
      "   0.0    1.0  -0.0288 0.8411 -0.1494 0.0917  False\n",
      "   0.0    2.0   0.0708 0.5067 -0.0784   0.22  False\n",
      "   1.0    2.0   0.0996 0.4118 -0.0841 0.2833  False\n",
      "---------------------------------------------------\n"
     ]
    }
   ],
   "source": [
    "# Teste de multiplo de Tukey - raça/etnia x sintomas de depressão\n",
    "\n",
    "tukey = pairwise_tukeyhsd(df_tukey['raça_etnia'],\n",
    "                  df_tukey['phq_grp_final'],\n",
    "                  alpha = 0.05)\n",
    "\n",
    "print(tukey)"
   ]
  },
  {
   "cell_type": "markdown",
   "id": "2c3c609e",
   "metadata": {},
   "source": [
    "### Observação\n",
    "* As hipóteses nulas não foram rejeitadas, ou seja, não existe diferença estatística entre médias do grupo raça/etnia e os grupos com diferentes sintomas de depressão"
   ]
  },
  {
   "cell_type": "code",
   "execution_count": 57,
   "id": "7384d1de",
   "metadata": {},
   "outputs": [
    {
     "name": "stdout",
     "output_type": "stream",
     "text": [
      "  Multiple Comparison of Means - Tukey HSD, FWER=0.05   \n",
      "========================================================\n",
      "group1 group2  meandiff p-adj    lower    upper   reject\n",
      "--------------------------------------------------------\n",
      "   0.0    1.0  -18.1974 0.8915 -111.6387  75.2439  False\n",
      "   0.0    2.0 -204.1262 0.0001 -319.7636 -88.4888   True\n",
      "   1.0    2.0 -185.9288 0.0063 -328.3212 -43.5365   True\n",
      "--------------------------------------------------------\n"
     ]
    }
   ],
   "source": [
    "# Teste de multiplo de Tukey - atividade aerobica x sintomas de depressão\n",
    "\n",
    "tukey = pairwise_tukeyhsd(df_tukey['aerobico_min'],\n",
    "                  df_tukey['phq_grp_final'],\n",
    "                  alpha = 0.05)\n",
    "\n",
    "print(tukey)"
   ]
  },
  {
   "cell_type": "markdown",
   "id": "6d1e1280",
   "metadata": {},
   "source": [
    "### Observações\n",
    "\n",
    "* Falhou em rejeitar H0 nos grupos sem sintomas e com sintomas leves"
   ]
  },
  {
   "cell_type": "code",
   "execution_count": 58,
   "id": "5b8cb2f3",
   "metadata": {},
   "outputs": [
    {
     "name": "stdout",
     "output_type": "stream",
     "text": [
      "Multiple Comparison of Means - Tukey HSD, FWER=0.05\n",
      "===================================================\n",
      "group1 group2 meandiff p-adj   lower  upper  reject\n",
      "---------------------------------------------------\n",
      "   0.0    1.0   0.1132    0.0   0.055 0.1713   True\n",
      "   0.0    2.0   0.0891 0.0104  0.0171  0.161   True\n",
      "   1.0    2.0  -0.0241 0.7996 -0.1127 0.0645  False\n",
      "---------------------------------------------------\n"
     ]
    }
   ],
   "source": [
    "# Teste de multiplo de Tukey - Genero x sintomas de depressão\n",
    "\n",
    "tukey = pairwise_tukeyhsd(df_tukey['genero'],\n",
    "                  df_tukey['phq_grp_final'],\n",
    "                  alpha = 0.05)\n",
    "\n",
    "print(tukey)"
   ]
  },
  {
   "cell_type": "markdown",
   "id": "cc03e690",
   "metadata": {},
   "source": [
    "### Observações\n",
    "* Falhou em rejeitar H0 nos grupos com sintomas leves e com sintomas moderados a severos"
   ]
  },
  {
   "cell_type": "markdown",
   "id": "2baa515e",
   "metadata": {},
   "source": [
    "### Observações finais\n",
    "\n",
    "* Analisando todos os resultados do estudo, é possivel confirmar que os grupos mais efetados por sintomas depressão são mulheres, pessoas de baixa renda e com idade mais avançada.\n",
    "* Pode haver relação entre alimentação e sintomas de depressão mais severos\n",
    "* Para uma análise mais robusta seria necessário ter mais dados ou ter mais variáveis como doenças crônicas, histórico familiar, etc"
   ]
  }
 ],
 "metadata": {
  "colab": {
   "collapsed_sections": [
    "ECHehL7FFAaS",
    "FxmV0FRbK7yI"
   ],
   "name": "brisa-13-01-22-Desafio-Inferencia.ipynb",
   "provenance": [],
   "toc_visible": true
  },
  "kernelspec": {
   "display_name": "Python 3 (ipykernel)",
   "language": "python",
   "name": "python3"
  },
  "language_info": {
   "codemirror_mode": {
    "name": "ipython",
    "version": 3
   },
   "file_extension": ".py",
   "mimetype": "text/x-python",
   "name": "python",
   "nbconvert_exporter": "python",
   "pygments_lexer": "ipython3",
   "version": "3.9.0"
  }
 },
 "nbformat": 4,
 "nbformat_minor": 5
}
